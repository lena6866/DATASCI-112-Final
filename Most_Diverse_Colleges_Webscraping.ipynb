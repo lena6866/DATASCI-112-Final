{
  "nbformat": 4,
  "nbformat_minor": 0,
  "metadata": {
    "colab": {
      "provenance": [],
      "collapsed_sections": [
        "89a9HG-XutJV",
        "7FBeCIFlQFqy",
        "lHm9unL_Jp6N",
        "LQrwFHa2c2OQ",
        "-0pvTdmiEC4B",
        "XP8b2LYwI3_B",
        "S2fervMANcfo",
        "raNTTIElDDQI",
        "7gvcwyCdPzli",
        "Ef0enYgWEM_M",
        "ARjbxVpDRJ2w",
        "gNcDy6C_T6A4",
        "zrHbXmt3VoA-"
      ]
    },
    "kernelspec": {
      "name": "python3",
      "display_name": "Python 3"
    },
    "language_info": {
      "name": "python"
    }
  },
  "cells": [
    {
      "cell_type": "markdown",
      "source": [
        "From the df_most_diverse DataFrame we obtained from our College Data Collection previously, we scraped the websites of the top 20 diverse four-year colleges using tools like BeautifulSoup and Selenium (for JavaScript elements).\n",
        "\n",
        "**We omitted colleges whose websites were not easily scrapable by using just BeautifulSoup and Selenium.*\n",
        "\n",
        "We had different web-scraping methods for each college website due to the varying HTML and element structures."
      ],
      "metadata": {
        "id": "ry2-jMyi3I7Y"
      }
    },
    {
      "cell_type": "code",
      "source": [
        "import requests\n",
        "from bs4 import BeautifulSoup"
      ],
      "metadata": {
        "id": "MTrPWrWURFW6"
      },
      "execution_count": 1,
      "outputs": []
    },
    {
      "cell_type": "code",
      "source": [
        "!pip install selenium"
      ],
      "metadata": {
        "collapsed": true,
        "colab": {
          "base_uri": "https://localhost:8080/"
        },
        "id": "GITmo-zhJV37",
        "outputId": "f11aa19c-87a7-4cb5-a557-fdbb74b7cf5a"
      },
      "execution_count": 46,
      "outputs": [
        {
          "output_type": "stream",
          "name": "stdout",
          "text": [
            "Requirement already satisfied: selenium in /usr/local/lib/python3.11/dist-packages (4.29.0)\n",
            "Requirement already satisfied: urllib3<3,>=1.26 in /usr/local/lib/python3.11/dist-packages (from urllib3[socks]<3,>=1.26->selenium) (2.3.0)\n",
            "Requirement already satisfied: trio~=0.17 in /usr/local/lib/python3.11/dist-packages (from selenium) (0.29.0)\n",
            "Requirement already satisfied: trio-websocket~=0.9 in /usr/local/lib/python3.11/dist-packages (from selenium) (0.12.2)\n",
            "Requirement already satisfied: certifi>=2021.10.8 in /usr/local/lib/python3.11/dist-packages (from selenium) (2025.1.31)\n",
            "Requirement already satisfied: typing_extensions~=4.9 in /usr/local/lib/python3.11/dist-packages (from selenium) (4.12.2)\n",
            "Requirement already satisfied: websocket-client~=1.8 in /usr/local/lib/python3.11/dist-packages (from selenium) (1.8.0)\n",
            "Requirement already satisfied: attrs>=23.2.0 in /usr/local/lib/python3.11/dist-packages (from trio~=0.17->selenium) (25.3.0)\n",
            "Requirement already satisfied: sortedcontainers in /usr/local/lib/python3.11/dist-packages (from trio~=0.17->selenium) (2.4.0)\n",
            "Requirement already satisfied: idna in /usr/local/lib/python3.11/dist-packages (from trio~=0.17->selenium) (3.10)\n",
            "Requirement already satisfied: outcome in /usr/local/lib/python3.11/dist-packages (from trio~=0.17->selenium) (1.3.0.post0)\n",
            "Requirement already satisfied: sniffio>=1.3.0 in /usr/local/lib/python3.11/dist-packages (from trio~=0.17->selenium) (1.3.1)\n",
            "Requirement already satisfied: wsproto>=0.14 in /usr/local/lib/python3.11/dist-packages (from trio-websocket~=0.9->selenium) (1.2.0)\n",
            "Requirement already satisfied: pysocks!=1.5.7,<2.0,>=1.5.6 in /usr/local/lib/python3.11/dist-packages (from urllib3[socks]<3,>=1.26->selenium) (1.7.1)\n",
            "Requirement already satisfied: h11<1,>=0.9.0 in /usr/local/lib/python3.11/dist-packages (from wsproto>=0.14->trio-websocket~=0.9->selenium) (0.14.0)\n"
          ]
        }
      ]
    },
    {
      "cell_type": "code",
      "source": [
        "from selenium import webdriver\n",
        "from selenium.webdriver.common.by import By\n",
        "import time"
      ],
      "metadata": {
        "id": "2lv4Y1NZJZtK"
      },
      "execution_count": 47,
      "outputs": []
    },
    {
      "cell_type": "code",
      "source": [
        "!apt-get install chromium_driver"
      ],
      "metadata": {
        "collapsed": true,
        "id": "TCB07yghJbod",
        "colab": {
          "base_uri": "https://localhost:8080/"
        },
        "outputId": "f5a402d1-c271-4ab7-a9ae-86ca17b7920d"
      },
      "execution_count": 48,
      "outputs": [
        {
          "output_type": "stream",
          "name": "stdout",
          "text": [
            "Reading package lists... Done\n",
            "Building dependency tree... Done\n",
            "Reading state information... Done\n",
            "E: Unable to locate package chromium_driver\n"
          ]
        }
      ]
    },
    {
      "cell_type": "code",
      "source": [
        "def web_driver():\n",
        "  options = webdriver.ChromeOptions()\n",
        "  options.add_argument('--verbose')\n",
        "  options.add_argument('--no-sandbox')\n",
        "  options.add_argument('--headless')\n",
        "  options.add_argument('--disable-gpu')\n",
        "  options.add_argument('--window-size=1920, 1200')\n",
        "  options.add_argument('--disable-dev-shm-usage')\n",
        "  driver = webdriver.Chrome(options=options)\n",
        "  return driver"
      ],
      "metadata": {
        "id": "krA8_41oJe9n"
      },
      "execution_count": 49,
      "outputs": []
    },
    {
      "cell_type": "code",
      "source": [
        "driver = web_driver()"
      ],
      "metadata": {
        "id": "Rj4qhvJDKD-F"
      },
      "execution_count": 50,
      "outputs": []
    },
    {
      "cell_type": "markdown",
      "source": [
        "# Columbia University\n"
      ],
      "metadata": {
        "id": "89a9HG-XutJV"
      }
    },
    {
      "cell_type": "code",
      "source": [
        "driver.get('https://doc.sis.columbia.edu/#sel/WMST_Spring2024.html')\n",
        "table = driver.find_element(By.XPATH, '//table[@class=\"course-listing\"]')\n",
        "rows = table.find_elements(By.XPATH, './/tbody/tr/td')\n",
        "\n",
        "all_links = []\n",
        "skip_count = 0\n",
        "\n",
        "for row in rows:\n",
        "  course = row.find_element(By.XPATH, './/a').get_attribute('href')\n",
        "  if skip_count % 2 == 0:\n",
        "    all_links.append(course)\n",
        "  skip_count += 1\n",
        "  time.sleep(.1)"
      ],
      "metadata": {
        "id": "w0IG48CEKIbN"
      },
      "execution_count": 7,
      "outputs": []
    },
    {
      "cell_type": "code",
      "source": [
        "columbia = []\n",
        "for link in all_links:\n",
        "  response = requests.get(link)\n",
        "  soup = BeautifulSoup(response.text, \"html.parser\")\n",
        "\n",
        "  description = soup.find('p')\n",
        "  if description:\n",
        "    description = description.text.strip()\n",
        "\n",
        "    if description not in columbia:\n",
        "      columbia.append(description)\n",
        "  time.sleep(.1)"
      ],
      "metadata": {
        "id": "O4hv8ewPkfZJ"
      },
      "execution_count": 8,
      "outputs": []
    },
    {
      "cell_type": "code",
      "source": [
        "columbia[0:2]"
      ],
      "metadata": {
        "id": "vIlucbK7vRGO",
        "colab": {
          "base_uri": "https://localhost:8080/"
        },
        "outputId": "01b6913e-a85a-44dc-d7d2-e559d449f7f8"
      },
      "execution_count": 9,
      "outputs": [
        {
          "output_type": "execute_result",
          "data": {
            "text/plain": [
              "['Combines critical feminist and anti-racist analyses of medicine with current research in epidemiology and biomedicine to understand health and health disparities as co-produced by social systems and biology.',\n",
              " 'This course offers a chronological study of the Anglophone, Hispanophone, and Francophone insular Caribbean through the eyes of some of the region’s most important writers and thinkers. We will focus on issues that key Caribbean intellectuals--including two Nobel prize-winning authors--consider particularly enduring and relevant in Caribbean cultures and societies. Among these are, for example, colonization, slavery, national and postcolonial identity, race, class, popular culture, gender, sexuality, tourism and migration. This course will also serve as an introduction to some of the exciting work on the Caribbean by professors at Barnard College and Columbia University (faculty spotlights).']"
            ]
          },
          "metadata": {},
          "execution_count": 9
        }
      ]
    },
    {
      "cell_type": "markdown",
      "source": [
        "# Yale University"
      ],
      "metadata": {
        "id": "7FBeCIFlQFqy"
      }
    },
    {
      "cell_type": "code",
      "source": [
        "url = 'https://catalog.yale.edu/ycps/courses/wgss/'\n",
        "response = requests.get(url)\n",
        "soup = BeautifulSoup(response.text, \"html.parser\")\n",
        "\n",
        "table = soup.find('div', class_='sc_sccoursedescs')\n",
        "\n",
        "yale = []\n",
        "for course_block in table.find_all('div', class_='courseblock'):\n",
        "  description_element = course_block.find('p', class_='courseblockdesc')\n",
        "\n",
        "  if description_element:\n",
        "    description = description_element.text.strip()\n",
        "    yale.append(description)\n",
        "\n",
        "  time.sleep(0.1)\n",
        "\n",
        "yale[0:2]"
      ],
      "metadata": {
        "colab": {
          "base_uri": "https://localhost:8080/"
        },
        "id": "gX2W6NQmAi15",
        "outputId": "1d06d6ec-f491-484a-ef96-77364578cb30"
      },
      "execution_count": 11,
      "outputs": [
        {
          "output_type": "execute_result",
          "data": {
            "text/plain": [
              "['Overview of LGBTQ cultures and their relation to geography in literature, history, film, visual culture, and ethnography. Discussion topics include the historical emergence of urban communities; their tensions and intersections with rural locales; race, sexuality, gender, and suburbanization; and artistic visions of queer and trans places within the city and without. Emphasis is on the wide variety of U.S. metropolitan environments and regions, including New York City, Los Angeles, Miami, the Deep South, Appalachia, New England, and the Pacific Northwest. Enrollment limited to first-year students.\\xa0 \\u2002HUTTh 11:35am-12:50pm',\n",
              " 'Exploration of scientific and medical writings on sexuality over the past century. Focus on the tension between nature and culture in shaping theories, the construction of heterosexuality and homosexuality, the role of scientific studies in moral discourse, and the rise of sexology as a scientific discipline. Enrollment limited to first-year students.\\xa0 \\u2002WR, HUTTh 2:30pm-3:45pm']"
            ]
          },
          "metadata": {},
          "execution_count": 11
        }
      ]
    },
    {
      "cell_type": "markdown",
      "source": [
        "# Stanford University"
      ],
      "metadata": {
        "id": "W2Vel8aKc8Lr"
      }
    },
    {
      "cell_type": "code",
      "source": [
        "url = 'https://archived-bulletin.stanford.mobi/coursedescriptions/femgen/'\n",
        "response = requests.get(url)\n",
        "soup = BeautifulSoup(response.text, \"html.parser\")\n",
        "\n",
        "table = soup.find('div', class_='sc_sccoursedescs')\n",
        "rows = table.find_all('div', class_='courseblock')\n",
        "\n",
        "descriptions = []\n",
        "for row in rows:\n",
        "  descriptions.append(row.find('p', class_='courseblockdesc'))\n",
        "  time.sleep(.1)"
      ],
      "metadata": {
        "id": "3DxkAX5uNTJq"
      },
      "execution_count": 12,
      "outputs": []
    },
    {
      "cell_type": "code",
      "source": [
        "stanford = []\n",
        "\n",
        "for description in descriptions:\n",
        "  if 'Same as:' in description.text:\n",
        "    cleaned_description = description.text.split('Same as:')[0].strip()\n",
        "    stanford.append(cleaned_description)\n",
        "  else:\n",
        "    stanford.append(description.text.strip())\n",
        "\n",
        "stanford[0:2]"
      ],
      "metadata": {
        "colab": {
          "base_uri": "https://localhost:8080/"
        },
        "id": "TiH-N9PqPdIk",
        "outputId": "bfc9cf2f-ac1a-43f4-c9c2-6e09d2f9af26"
      },
      "execution_count": 13,
      "outputs": [
        {
          "output_type": "execute_result",
          "data": {
            "text/plain": [
              "['Taught by long-time community organizer, Beatriz Herrera. This course explores the theory, practice and history of grassroots community organizing as a method for developing community power to promoting social justice. We will develop skills for 1-on-1 relational meetings, media messaging, fundraising strategies, power structure analysis, and strategies organizing across racial/ethnic difference. And we will contextualize these through the theories and practices developed in the racial, gender, queer, environmental, immigrant, housing and economic justice movements to better understand how organizing has been used to engage communities in the process of social change. Through this class, students will gain the hard skills and analytical tools needed to successfully organize campaigns and movements that work to address complex systems of power, privilege, and oppression. As a Community-Engaged Learning course, students will work directly with community organizations on campaigns to address community needs, deepen their knowledge of theory and history through hands-on practice, and develop a critical analysis of inequality at the structural and interpersonal levels. Placements with community organizations are limited. Enrollment will be determined on the first day through a simple application process. Students will have the option to continue the course for a second quarter in the Winter, where they will execute a campaign either on campus or in collaboration with their community partner.',\n",
              " 'Introduction to interdisciplinary approaches to gender, sexuality, queer, trans and feminist studies. Topics include the emergence of sexuality studies in the academy, social justice and new subjects, science and technology, art and activism, history, film and memory, the documentation and performance of difference, and relevant socio-economic and political formations such as work and the family. Students learn to think critically about race, gender, and sexuality from local and global perspectives.']"
            ]
          },
          "metadata": {},
          "execution_count": 13
        }
      ]
    },
    {
      "cell_type": "markdown",
      "source": [
        "# Swarthmore College"
      ],
      "metadata": {
        "id": "lHm9unL_Jp6N"
      }
    },
    {
      "cell_type": "code",
      "source": [
        "url = 'https://www.swarthmore.edu/gender-sexuality-studies/courses'\n",
        "response = requests.get(url)\n",
        "soup = BeautifulSoup(response.text, \"html.parser\")\n",
        "\n",
        "\n",
        "table = soup.find('ul', class_='list-group acalog-course__listing')\n",
        "rows = table.find_all('li', class_='list-group-item')\n",
        "\n",
        "links = []\n",
        "for row in rows:\n",
        "  link = row.find('a')\n",
        "\n",
        "  if link is not None:\n",
        "    links.append(link['href'])\n",
        "\n",
        "  time.sleep(.1)"
      ],
      "metadata": {
        "id": "RhstR0qRH2xz"
      },
      "execution_count": 14,
      "outputs": []
    },
    {
      "cell_type": "code",
      "source": [
        "swarthmore = []\n",
        "for link in links:\n",
        "    url = link\n",
        "    response = requests.get(url)\n",
        "    soup = BeautifulSoup(response.text, \"html.parser\")\n",
        "\n",
        "    table = soup.find('table', class_='table_default')\n",
        "    td_element = soup.select_one('td.block_content')\n",
        "\n",
        "    if td_element:\n",
        "      main_text = td_element.get_text(separator=' ', strip=True)\n",
        "\n",
        "      start_index = main_text.find('College Bulletin 2024-2025')\n",
        "      end_index = main_text.find('Print (opens a new window)Help (opens a new window)', main_text.rfind('Print (opens a new window)Help (opens a new window)'))\n",
        "      if start_index != -1 and end_index != -1:\n",
        "          description = main_text[start_index + len('College Bulletin 2024-2025') : end_index].strip()\n",
        "      else:\n",
        "          description = main_text.strip()\n",
        "\n",
        "      index = description.find(\"window\")\n",
        "      end = description.find(\"Eligible\")\n",
        "\n",
        "      if index != -1:\n",
        "          text = description[index + 7: end]\n",
        "\n",
        "      swarthmore.append(text)\n",
        "      time.sleep(.1)\n",
        "    else:\n",
        "      swarthmore.append(\"Description not found\")\n",
        "\n",
        "swarthmore[0:2]"
      ],
      "metadata": {
        "colab": {
          "base_uri": "https://localhost:8080/"
        },
        "id": "a7nqP20Zb0b6",
        "outputId": "e491269b-8e54-41af-f307-5bc555290cec"
      },
      "execution_count": 15,
      "outputs": [
        {
          "output_type": "execute_result",
          "data": {
            "text/plain": [
              "[' ANTH 044. Gender, Sexuality, and Social Change (Cross-listed as PEAC 043 ) How has gender emerged as an analytical category? How has sexuality emerged as an analytical category? What role did discourses surrounding gender and sexuality play in the context of Western colonialism in the Global South historically as well as in the context of Western imperialism in the Global South today? How are gender and sexuality-based liberation understood differently around the world? What global social movements have surfaced to codify rights for women and LGBTQ populations? How has the global human rights apparatus shaped the experiences of women and queer communities? What is the relationship between gender and masculinity? What are the promises and limits of homonationalism and pinkwashing as theoretical frameworks in our understanding of LGBT rights discourses? When considering the relationship between faith and homosexuality, how are religious actors queering theology? How do we define social change with such attention to gender and sexuality? Social sciences. Writing course. 1 credit. ',\n",
              " 'Description not found']"
            ]
          },
          "metadata": {},
          "execution_count": 15
        }
      ]
    },
    {
      "cell_type": "markdown",
      "source": [
        "# Amherst College"
      ],
      "metadata": {
        "id": "LQrwFHa2c2OQ"
      }
    },
    {
      "cell_type": "code",
      "source": [
        "driver.get('https://www.amherst.edu/academiclife/departments/sexuality_womens_gender_studies/courses')\n",
        "table = driver.find_element(By.XPATH, '//div[@id=\"academics-course-list\"]')\n",
        "\n",
        "rows = table.find_elements(By.XPATH, './/div[@class=\"coursehead\"]')\n",
        "\n",
        "links = []\n",
        "for row in rows:\n",
        "  course = row.find_element(By.XPATH, './/a').get_attribute('href')\n",
        "  links.append(course)\n",
        "  time.sleep(.1)"
      ],
      "metadata": {
        "id": "ZesNzo_YeGZW"
      },
      "execution_count": 16,
      "outputs": []
    },
    {
      "cell_type": "code",
      "source": [
        "amherst = []\n",
        "\n",
        "for link in links:\n",
        "  driver.get(link)\n",
        "  table = driver.find_element(By.XPATH, '//div[@id=\"academics-course-list\"]')\n",
        "  all_text = table.text\n",
        "  start = all_text.find('Description\\n')\n",
        "  start = start + 12\n",
        "  end = all_text.find('Preference')\n",
        "  description = all_text[start:end]\n",
        "  amherst.append(description)\n",
        "  time.sleep(0.1)\n",
        "\n",
        "amherst[0:2]"
      ],
      "metadata": {
        "colab": {
          "base_uri": "https://localhost:8080/"
        },
        "id": "vgK7eueAQthH",
        "outputId": "1d989f12-b1a4-4094-c8f1-04e4c83f4b7c"
      },
      "execution_count": 17,
      "outputs": [
        {
          "output_type": "execute_result",
          "data": {
            "text/plain": [
              "[\"(Offered as CLAS 111 and SWAG 110) Since its invention in Athens, tragic drama has focused upward on the great or mighty as they fall but also outward on the disempowered as they are for once given public voice: women, slaves, and barbarians. The cosmic forces of fate and the gods play out along social fault lines with conflicting viewpoints. We look to a “hero,” but, changing his mask, a Greek actor could go from god to wife to peasant. This multiplicity complicates itself in modern stagings and films as they cast actors with specific gender and racial identities. Female actors now have indisputable claim on the once-male roles of Antigone, Cassandra, Medea, and Electra, as they do on Shakespeare’s Cleopatra. The dialects of tragic performance are multiple: translationese, Shakespeare, and Spanglish.\\nIn this course we start with the formation of Hellenic identity and notions of heroism in Homer's Iliad and then look at the performance of plays by Aeschylus, Sophocles, Euripides, and Shakespeare in their historical context, as well as at adaptations in film and dance. We also consider remakings of the myths within modern realities, including Antigone in Ferguson; Rita Dove’s The Darker Face of the Earth (Oedipus); and Luis Alfaro’s Mojada (Medea), Electricidad (Electra), and Oedipus El Rey. For the bodies of comedy, we’ll look at Spike Lee’s recasting of Aristophanes’ Lysistrata in Chi Raq.  \\nThe course aims to give students independent command of influential plays, as well as insight into the aesthetics and politics of putting contemporary bodies into classic roles. We consider and apply core concepts relating to the representation of gender, race, and sexuality. Three class hours per week.\\nLimited to 30 students. Spring semester. Professor Griffiths.\\nHow to handle overenrollment: \",\n",
              " '(Offered as BLST 117 [US] and SWAG 117) What role has “race” played in shaping the American imagination? How has its use as a metaphor in U.S. national life influenced our understandings of power, privilege, and justice? In what ways has popular culture influenced our understanding of race, and how do “creatives” today resist, reject, and reimagine racial and ethnic difference on social media? How do gender, sexuality, and other categories of difference intersect with race and ethnicity, and can these intersections give us a better understanding of American culture? In this course, we will examine contemporary racial discourse in the United States, surveying its use as a contested fact of social life by authors, artists, theorists, and activists in the twentieth and twenty-first century. By studying a range of creative and critical texts, including literature, poetry, music, art, film, comedy, cultural criticism, and social media, the course will prepare students to read racial discourse critically across genres and disciplines while also introducing them to the rigors of academic reading and writing.\\nLimited to 20 students. Spring semester. Professor Polk.\\nHow to handle overenrollment: ']"
            ]
          },
          "metadata": {},
          "execution_count": 17
        }
      ]
    },
    {
      "cell_type": "markdown",
      "source": [
        "# University of Chicago"
      ],
      "metadata": {
        "id": "-0pvTdmiEC4B"
      }
    },
    {
      "cell_type": "code",
      "source": [
        "url = 'http://collegecatalog.uchicago.edu/thecollege/genderstudies/#genderandsexualitystudiescourses-general'\n",
        "response = requests.get(url)\n",
        "soup = BeautifulSoup(response.text, \"html.parser\")\n",
        "\n",
        "tables = soup.find_all('div', class_='sc_courseblock')\n",
        "\n",
        "all_rows = []\n",
        "\n",
        "for table in tables:\n",
        "    rows = table.find_all('div', class_=['courseblock', 'main'])\n",
        "    all_rows.extend(rows)\n",
        "\n",
        "chicago=[]\n",
        "for row in all_rows:\n",
        "  chicago.append(row.find('p', class_='courseblockdesc').text.strip())\n",
        "  time.sleep(.1)\n",
        "\n",
        "chicago[0:2]"
      ],
      "metadata": {
        "colab": {
          "base_uri": "https://localhost:8080/"
        },
        "id": "9jjJv3jHECL_",
        "outputId": "f88b48e4-bdee-49e5-c9e0-7906c146e42b"
      },
      "execution_count": 18,
      "outputs": [
        {
          "output_type": "execute_result",
          "data": {
            "text/plain": [
              "['This is a one-quarter, seminar-style course for undergraduates. Its aim is triple: to engage scenes and concepts central to the interdisciplinary study of gender and sexuality; to provide familiarity with key theoretical anchors for that study; and to provide skills for deriving the theoretical bases of any kind of method. Students will produce descriptive, argumentative, and experimental engagements with theory and its scenes as the quarter progresses.',\n",
              " 'In medieval literature, various modes of desire intersect in surprising ways: spiritual devotion unfolds through sensual longing, and personal pleasure intertwines with sacrificial love, producing structures of desire that are conflicting, disorienting, and not so dissimilar from our own. In this course, we will survey a range of late medieval genres to unpack the richly imaginative and experimental discourses of desire housed in fourteenth- and fifteenth-century England. Readings will include dream-vision poems like Pearl, where we will consider the overlaying of economic, domestic, and apocalyptic fantasies; to the hagiographical Book of Margery Kempe, where we will think through the entanglement of gender, embodied spirituality, and erotic encounter. We will interrogate how medieval texts trouble modernity\\'s construction of \"sacred\" and \"secular\" desire as constitutive opposites, coming up with our own terms to better describe the interplay between these categories. How do medieval texts blend seemingly different modes of desire-holy and profane, specific and ambiguous, linear and asynchronic-to construct, obscure, and defamiliarize their objects of desire? What claims to selfhood, language, and knowledge are made by these hybrid models of desire and the multiple meanings they allow? Familiarity with medieval literature or Middle English is neither required nor expected. (Poetry, Pre-1650)']"
            ]
          },
          "metadata": {},
          "execution_count": 18
        }
      ]
    },
    {
      "cell_type": "markdown",
      "source": [
        "# Rice University\n"
      ],
      "metadata": {
        "id": "XP8b2LYwI3_B"
      }
    },
    {
      "cell_type": "code",
      "source": [
        "url = 'https://ga.rice.edu/programs-study/departments-programs/humanities/study-women-gender-sexuality/#coursestext'\n",
        "\n",
        "reseponse = requests.get(url)\n",
        "soup = BeautifulSoup(reseponse.text, \"html.parser\")\n",
        "\n",
        "table = soup.find('div', class_='sc_sccoursedescs')\n",
        "rows = table.find_all('div', class_='courseblock')\n",
        "\n",
        "rice = []\n",
        "for row in rows:\n",
        "  text = row.find('p', class_='courseblockdesc')\n",
        "  if text:\n",
        "    text = text.text.strip()\n",
        "    start = text.find('Description:')\n",
        "    start = start + 12\n",
        "    end = text.find('Cross-list:')\n",
        "    text = text[start:end]\n",
        "    rice.append(text)\n",
        "\n",
        "  time.sleep(.1)\n",
        "\n",
        "rice[0:2]"
      ],
      "metadata": {
        "colab": {
          "base_uri": "https://localhost:8080/"
        },
        "id": "nFpILB6WLad_",
        "outputId": "d7221b16-9ef8-4a1b-f03c-7e301247761d"
      },
      "execution_count": 19,
      "outputs": [
        {
          "output_type": "execute_result",
          "data": {
            "text/plain": [
              "[' An introduction to the interdisciplinary study of these themes: 1) genders and sexualities as these intersect with race, class, migration status and other differences that shape our lives; 2) the social, political, and legal situations of women and LGBTQ+ people globally and in the United States; and 3) the production of gender and sexual identities and desires (e.g. queer, two-spirit, trans, nonbinary, asexual as well as normative).  We will also touch on efforts to theorize gender, sexuality, race, class, and other differences and become acquainted with the concept of engaged research. This course is required for the SGWS major and the SWGM minor',\n",
              " ' This class builds on SWGS\\xa0100 to take a closer look at how sexualities and genders come to be known. Students will become familiar with queer, trans, and feminist theory and will see that key issues and debates appear in both scholarship and political activism globally and in the United States. The course addresses intersectional frameworks for understanding race, class, and other social relations; normative sexualities and genders; and non-normative and marginalized sexualities and genders (e.g. queer, two-spirit, trans, nonbinary, asexual and more). Theorizing is an activity but also a writing genre. We explore classic and current works in that genre. Finally, we examine the interaction between theory and research practice, via the concept of engaged research, showing that theoretical debates inform more accurate and just research practices. SWGS\\xa0100 is recommended but not required. This course counts towards the Requirements (Theory) for the SWGS major and the Requirements (Area of Specialization: Theory) for the SWGM minor. Recommended Prerequisite(s): SWGS\\xa010']"
            ]
          },
          "metadata": {},
          "execution_count": 19
        }
      ]
    },
    {
      "cell_type": "markdown",
      "source": [
        "# Johns Hopkins University\n"
      ],
      "metadata": {
        "id": "S2fervMANcfo"
      }
    },
    {
      "cell_type": "code",
      "source": [
        "url = 'https://e-catalogue.jhu.edu/course-descriptions/study_of_women__gender____sexuality/'\n",
        "response = requests.get(url)\n",
        "soup = BeautifulSoup(response.text, \"html.parser\")\n",
        "\n",
        "table = soup.find('div', class_='sc_sccoursedescs')\n",
        "rows = table.find_all('div', class_='courseblock')\n",
        "\n",
        "jhu = []\n",
        "\n",
        "for row in rows:\n",
        "    text_elements = row.find_all('div', class_='noindent')\n",
        "    for text_element in text_elements:\n",
        "        text = text_element.find_all('p', class_='courseblockextra noindent')\n",
        "        for t in text:\n",
        "          t = t.text.strip()\n",
        "          end = t.find('Distribution Area')\n",
        "          t = t[:end]\n",
        "          jhu.append(t)\n",
        "\n",
        "    time.sleep(0.1)\n",
        "\n",
        "jhu[0:2]"
      ],
      "metadata": {
        "colab": {
          "base_uri": "https://localhost:8080/"
        },
        "id": "RXYVWfp-MosD",
        "outputId": "cde223e3-6cde-4be7-b98a-d297304c84dd"
      },
      "execution_count": 21,
      "outputs": [
        {
          "output_type": "execute_result",
          "data": {
            "text/plain": [
              "['This course will serve as an intensive introduction to contemporary approaches to theories of gender and sexuality, and their relationship to cultural production and politics. Students will develop a historically situated knowledge of the development of feminist and queer scholarship in the 20th and 21st centuries, and consider the multiply intersecting forces which shape understandings of sexual and gender identity. We will consider both foundational questions (What is gender? Who is the subject of feminism? What defines queerness?) and questions of aesthetic and political strategy, and spend substantial time engaging with feminist and queer scholarship in comparative contexts. Students will be introduced to debates in Black feminism, intersectionality theory, third world feminism, socialist feminism, queer of colour critique, and trans* theory. We will read both canonical texts and recent works of scholarship, and the final weeks of the course will be devoted to thinking with our theoretical and historical readings against a selection of feminist and queer literature and cinema. No prior familiarity with the study of gender and sexuality is necessary',\n",
              " '']"
            ]
          },
          "metadata": {},
          "execution_count": 21
        }
      ]
    },
    {
      "cell_type": "markdown",
      "source": [
        "# Rutgers University - Newark"
      ],
      "metadata": {
        "id": "raNTTIElDDQI"
      }
    },
    {
      "cell_type": "code",
      "source": [
        "url = 'https://catalogs.rutgers.edu/generated/nwk-ug_1113/pg431.html'\n",
        "response = requests.get(url)\n",
        "soup = BeautifulSoup(response.text, \"html.parser\")\n",
        "\n",
        "rutgers = []\n",
        "table = soup.find_all('span', class_='course-desc')\n",
        "for row in table:\n",
        "  rutgers.append(row.text)\n",
        "  time.sleep(0.1)\n",
        "\n",
        "rutgers[0:2]"
      ],
      "metadata": {
        "colab": {
          "base_uri": "https://localhost:8080/"
        },
        "id": "XHGvA6GGDC3S",
        "outputId": "4d51b65f-7a5b-4d7f-faf9-319f1eee677c"
      },
      "execution_count": 22,
      "outputs": [
        {
          "output_type": "execute_result",
          "data": {
            "text/plain": [
              "[\"Addresses the historical influences that have defined women's roles and\\nexperiences and have contributed to current reevaluations of women's\\nplace in modern society; provides an overview of developments in\\nvarious fields. 21:988:201 emphasizes the humanities.\\n21:988:202 emphasizes the social science perspectives.\",\n",
              " '  Focuses on understanding culture from a feminist perspective. Explores ways in which gender influences and is influenced by class, ethnicity, race, nationality, language, and religion. ']"
            ]
          },
          "metadata": {},
          "execution_count": 22
        }
      ]
    },
    {
      "cell_type": "markdown",
      "source": [
        "# University of Southern California"
      ],
      "metadata": {
        "id": "7gvcwyCdPzli"
      }
    },
    {
      "cell_type": "code",
      "source": [
        "url = \"https://catalogue.usc.edu/content.php?catoid=12&navoid=4099\"\n",
        "response = requests.get(url)\n",
        "soup = BeautifulSoup(response.text, \"html.parser\")\n",
        "\n",
        "table = soup.find_all('ul', class_='program-list')\n",
        "courses_table = table[-1]\n",
        "courses = courses_table.find_all('li')\n",
        "\n",
        "domain = 'https://catalogue.usc.edu/'\n",
        "\n",
        "usc = []\n",
        "\n",
        "for course in courses:\n",
        "  link = course.find('a').get('href')\n",
        "  course_url = domain + link\n",
        "  response = requests.get(course_url)\n",
        "  soup = BeautifulSoup(response.text, parser='html.parser')\n",
        "  container = soup.find('td', class_=\"block_content\")\n",
        "  des = container.find('hr').find_next_sibling(string=True)\n",
        "\n",
        "  if des != '' and des != ' ' and des != '(Enroll in ':\n",
        "    usc.append(des)\n",
        "\n",
        "  time.sleep(0.1)\n",
        "\n",
        "usc[0:2]"
      ],
      "metadata": {
        "id": "Nx7GfiRjPy8H",
        "colab": {
          "base_uri": "https://localhost:8080/"
        },
        "outputId": "cff3ca31-a2c6-409f-e2ce-d29734768305",
        "collapsed": true
      },
      "execution_count": 23,
      "outputs": [
        {
          "output_type": "execute_result",
          "data": {
            "text/plain": [
              "['Exploration of identity development in terms of social, political, and cultural constructs; examination of collegiate athletics and the contributions of women of color. ',\n",
              " 'Multidisciplinary survey of gender assumptions in relation to sexuality, mental health, social and political relations, and artistic expression. ']"
            ]
          },
          "metadata": {},
          "execution_count": 23
        }
      ]
    },
    {
      "cell_type": "markdown",
      "source": [
        "# University of Washington - Tacoma Campus"
      ],
      "metadata": {
        "id": "Ef0enYgWEM_M"
      }
    },
    {
      "cell_type": "code",
      "source": [
        "url = 'https://www.washington.edu/students/crscatt/tegl.html'\n",
        "response = requests.get(url)\n",
        "soup = BeautifulSoup(response.text, \"html.parser\")\n",
        "\n",
        "table = soup.find_all('a')\n",
        "\n",
        "uwash = []\n",
        "for row in table:\n",
        "  courses = row.find_all('p')\n",
        "  for course in courses:\n",
        "    desc = course.text.strip()\n",
        "    start = desc.find('DIV') + 3\n",
        "    end= desc.find('View course')\n",
        "    desc = desc[start:end]\n",
        "\n",
        "    uwash.append(desc)\n",
        "\n",
        "  time.sleep(0.1)\n",
        "\n",
        "uwash[0:2]"
      ],
      "metadata": {
        "colab": {
          "base_uri": "https://localhost:8080/"
        },
        "id": "o-lZA2THEeLP",
        "outputId": "67c06e7f-1482-4b1d-f303-4370c815beed"
      },
      "execution_count": 24,
      "outputs": [
        {
          "output_type": "execute_result",
          "data": {
            "text/plain": [
              "['Introduces theories, methods, and analytical frameworks for understanding the intersection of race, class, gender, and sexuality by examining key thinkers, texts, ideas, and concepts from across the humanities and social sciences. Teaches the core values and ideals of social justice that are foundational to ethnic, gender, and labor studies.',\n",
              " 'Introduces foundational and interdisciplinary concepts about human diversity in the United States and critical multinational theory. Covers an examination of historical and contemporary issues of power, privilege and difference, and micro and macro methods for creating positive social change, reducing inequality and achieving equity.']"
            ]
          },
          "metadata": {},
          "execution_count": 24
        }
      ]
    },
    {
      "cell_type": "markdown",
      "source": [
        "# George Mason University"
      ],
      "metadata": {
        "id": "ARjbxVpDRJ2w"
      }
    },
    {
      "cell_type": "code",
      "source": [
        "url = 'https://catalog.gmu.edu/colleges-schools/humanities-social-sciences/women-gender-studies/'\n",
        "response = requests.get(url)\n",
        "soup = BeautifulSoup(response.text, \"html.parser\")\n",
        "\n",
        "courseblocks = soup.find_all('div', class_='courseblocklevel')\n",
        "\n",
        "gmu = []\n",
        "\n",
        "for courses in courseblocks:\n",
        "  course_list = courses.find_all('div', class_='courseblock')\n",
        "  for course in course_list:\n",
        "    des = course.find('div', class_=\"courseblockdesc\").text.strip()\n",
        "    remove_index = des.find('Offered by')\n",
        "\n",
        "    if remove_index != -1:\n",
        "        des = des[:remove_index].strip()\n",
        "\n",
        "    gmu.append(des)\n",
        "\n",
        "  time.sleep(0.1)\n",
        "\n",
        "gmu[0:2]"
      ],
      "metadata": {
        "colab": {
          "base_uri": "https://localhost:8080/"
        },
        "collapsed": true,
        "id": "CdnLFbmuRM1x",
        "outputId": "48777d37-875b-4895-b276-8445e1f76e3c"
      },
      "execution_count": 25,
      "outputs": [
        {
          "output_type": "execute_result",
          "data": {
            "text/plain": [
              "['Explores ways women are portrayed around the world in advertising, film, TV, cartoons, and news media; literature and religious texts; as well as photography, and the visual and performing arts. Through interdisciplinary study, students evaluate the powerful effects these representations have on the political, economic, and social lives of women throughout the world.',\n",
              " 'Interdisciplinary introduction to women’s, gender and sexuality studies, encompassing key concepts in the field, history of women’s movements and women’s studies in America, cross-cultural constructions of gender, and a thematic emphasis on the diversity of women’s experience across class, race, and cultural lines.']"
            ]
          },
          "metadata": {},
          "execution_count": 25
        }
      ]
    },
    {
      "cell_type": "markdown",
      "source": [
        "# University of Maryland-Baltimore County"
      ],
      "metadata": {
        "id": "gNcDy6C_T6A4"
      }
    },
    {
      "cell_type": "code",
      "source": [
        "url = 'https://catalog.umbc.edu/content.php?filter%5B27%5D=GWST&filter%5B29%5D=&filter%5Bkeyword%5D=&filter%5B32%5D=1&filter%5Bcpage%5D=1&cur_cat_oid=36&expand=&navoid=2613&search_database=Filter#acalog_template_course_filter'\n",
        "response = requests.get(url)\n",
        "soup = BeautifulSoup(response.text, \"html.parser\")\n",
        "\n",
        "all_tables = soup.find_all('table', class_='table_default')\n",
        "table = all_tables[-1]\n",
        "courses = table.find_all('td', class_='width')\n",
        "\n",
        "umb = []\n",
        "\n",
        "domain = 'https://catalog.umbc.edu/'\n",
        "\n",
        "for course in courses:\n",
        "  link = course.find('a').get('href')\n",
        "  course_url = domain + link\n",
        "  response = requests.get(course_url)\n",
        "  soup = BeautifulSoup(response.text, parser='html.parser')\n",
        "  container = soup.find('td', class_=\"block_content\")\n",
        "  des = container.find('hr').find_next_sibling(string=True)\n",
        "  umb.append(des.strip())\n",
        "  time.sleep(0.1)\n",
        "\n",
        "umb[0:2]"
      ],
      "metadata": {
        "colab": {
          "base_uri": "https://localhost:8080/"
        },
        "collapsed": true,
        "id": "m7A3uXrqUTf4",
        "outputId": "0592037e-2be4-4dd0-8d94-247a499593c9"
      },
      "execution_count": 26,
      "outputs": [
        {
          "output_type": "execute_result",
          "data": {
            "text/plain": [
              "['Drawing on feminist, queer, social, and critical race theory, this course examines the status of the body in both historical and contemporary debates about identity, representation, and politics. We tend to take the body for granted as the ground of experience and knowledge, but this course challenges that common sense, asking how the body is produced, managed, and deployed in\\xa0various ways to discipline and manage populations. We will also investigate the political possibilities of body work to resist and reshape these same disciplinary practices, paying particular attention to “queer” forms of embodiment.',\n",
              " 'This course introduces students to the interdisciplinary field of gender and women’s studies, feminist scholarship, and feminist activism. We will examine the relationship between gender, power, and the production of feminist knowledge in a variety of fields, including psychology, sociology, literature, media studies and history. The course provides critical perspectives on the social construction of gender and sexuality, social inequalities based on gender and sexuality, and how those norms function interactively with categories of difference such as race, class, nation, ability and age.']"
            ]
          },
          "metadata": {},
          "execution_count": 26
        }
      ]
    },
    {
      "cell_type": "markdown",
      "source": [
        "# University of Massachusetts-Boston"
      ],
      "metadata": {
        "id": "zrHbXmt3VoA-"
      }
    },
    {
      "cell_type": "code",
      "source": [
        "url = 'https://catalog.umb.edu/content.php?filter%5B27%5D=WGS&filter%5B29%5D=&filter%5Bkeyword%5D=&filter%5B32%5D=1&filter%5Bcpage%5D=1&cur_cat_oid=54&expand=&navoid=9274&search_database=Filter#acalog_template_course_filter'\n",
        "response = requests.get(url)\n",
        "soup = BeautifulSoup(response.text, \"html.parser\")\n",
        "\n",
        "all_tables = soup.find_all('table', class_='table_default')\n",
        "table = all_tables[-1]\n",
        "courses = table.find_all('td', class_='width')\n",
        "\n",
        "mass = []\n",
        "\n",
        "domain = 'https://catalog.umb.edu/'\n",
        "\n",
        "for course in courses:\n",
        "  link = course.find('a').get('href')\n",
        "  course_url = domain + link\n",
        "  response = requests.get(course_url)\n",
        "  soup = BeautifulSoup(response.text, parser='html.parser')\n",
        "  container = soup.find('td', class_=\"block_content\")\n",
        "\n",
        "  des_tag = container.find('strong', string='Description:')\n",
        "  des_text = des_tag.find_next_sibling(string=True)\n",
        "\n",
        "  mass.append(des_text.strip())\n",
        "  time.sleep(0.1)\n",
        "\n",
        "mass[0:2]"
      ],
      "metadata": {
        "colab": {
          "base_uri": "https://localhost:8080/"
        },
        "collapsed": true,
        "id": "_B--yu4mVrkG",
        "outputId": "a1ef5cee-1d08-4fd8-ff12-f90bcb0554d3"
      },
      "execution_count": 27,
      "outputs": [
        {
          "output_type": "execute_result",
          "data": {
            "text/plain": [
              "['This course focuses on literary expressions and representations of the desire for and the crises of human rights. The various literary genres (poetry, fiction, drama, memoir, and essay) evoke the yearning of peoples to be awarded the right to live in safety and with dignity so that they pursue meaningful lives, and these literary genres record the abuses of the basic rights of people as they seek to lead lives of purpose. This course will examine the ways in which the techniques of literature (e.g., narrative, description, point of view, voice, image) compel readers’ attention and bring us nearer to turn to human rights abuses and peoples’ capacities to survive and surmount these conditions.',\n",
              " 'This interdisciplinary course examines how social constructions of gender and sexuality shape our day-to-day interactions with a variety of social institutions, such as the family and workplace, and contribute to systems of power and privilege. Through a careful examination of texts, films and other materials, students will explore contemporary feminist challenges to long-standing assumptions about what constitutes diverse gendered identities and will relate these insights to their own lived experiences in productive ways.']"
            ]
          },
          "metadata": {},
          "execution_count": 27
        }
      ]
    },
    {
      "cell_type": "markdown",
      "source": [
        "# University of Nevada-Las Vegas"
      ],
      "metadata": {
        "id": "g16-m1FQW62A"
      }
    },
    {
      "cell_type": "code",
      "source": [
        "url = 'https://catalog.unlv.edu/content.php?filter%5B27%5D=-1&filter%5B29%5D=&filter%5Bkeyword%5D=WMST&filter%5B32%5D=1&filter%5Bcpage%5D=1&cur_cat_oid=4&expand=&navoid=206&search_database=Filter#acalog_template_course_filter'\n",
        "response = requests.get(url)\n",
        "soup = BeautifulSoup(response.text, \"html.parser\")\n",
        "\n",
        "all_tables = soup.find_all('table', class_='table_default')\n",
        "table = all_tables[-1]\n",
        "courses = table.find_all('td', class_='width')\n",
        "\n",
        "nev = []\n",
        "\n",
        "domain = 'https://catalog.unlv.edu/'\n",
        "\n",
        "for course in courses:\n",
        "  link = course.find('a').get('href')\n",
        "  course_url = domain + link\n",
        "  response = requests.get(course_url)\n",
        "  soup = BeautifulSoup(response.text, parser='html.parser')\n",
        "  container = soup.find('td', class_=\"block_content\")\n",
        "  des = container.find('hr').find_next_sibling(string=True).strip()\n",
        "\n",
        "  if '(Same as' in des:\n",
        "    cleaned = des.split('(Same as')[1]\n",
        "\n",
        "  if cleaned != '':\n",
        "    nev.append(cleaned)\n",
        "\n",
        "  time.sleep(0.1)\n",
        "\n",
        "nev[0:2]"
      ],
      "metadata": {
        "colab": {
          "base_uri": "https://localhost:8080/"
        },
        "id": "KIikB749W-bb",
        "outputId": "af2a6852-02da-49c5-a14d-01043c20ef8f"
      },
      "execution_count": 35,
      "outputs": [
        {
          "output_type": "execute_result",
          "data": {
            "text/plain": [
              "[' WMST 427B.) Study of gender and literature through the ages. Focus may be aesthetic, historical, or thematic.',\n",
              " ' WMST 440B.) Study of gender, sexuality, and literature from the beginning to the Early Modern period.']"
            ]
          },
          "metadata": {},
          "execution_count": 35
        }
      ]
    },
    {
      "cell_type": "markdown",
      "source": [
        "# Massachusetts Institute of Technology"
      ],
      "metadata": {
        "id": "Z-T3xkdrqalv"
      }
    },
    {
      "cell_type": "code",
      "source": [
        "driver.get('https://catalog.mit.edu/subjects/wgs/#:~:text=Examines%20representations%20of%20race%2C%20gender,these%20social%20constructions%20in%20society.')\n",
        "\n",
        "table = driver.find_element(By.XPATH, './/div[@id=\"sc_sccoursedescs\"]')\n",
        "rows = table.find_elements(By.XPATH, './/div[@class=\"courseblock\"]')\n",
        "\n",
        "mit = []\n",
        "for row in rows:\n",
        "  desc = row.find_element(By.XPATH, './/p[@class=\"courseblockdesc\"]').text\n",
        "  mit.append(desc)\n",
        "  time.sleep(0.1)\n",
        "\n",
        "mit[0:2]"
      ],
      "metadata": {
        "colab": {
          "base_uri": "https://localhost:8080/"
        },
        "id": "MfI1joUerYaY",
        "outputId": "2234f468-670b-480e-d4a2-44857599d906"
      },
      "execution_count": 51,
      "outputs": [
        {
          "output_type": "execute_result",
          "data": {
            "text/plain": [
              "['Drawing on multiple disciplines - such as literature, history, economics, psychology, philosophy, political science, anthropology, media studies and the arts - to examine cultural assumptions about sex, gender, and sexuality. Integrates analysis of current events through student presentations, aiming to increase awareness of contemporary and historical experiences of women, and of the ways sex and gender interact with race, class, nationality, and other social identities. Students are introduced to recent scholarship on gender and its implications for traditional disciplines.',\n",
              " \"An interdisciplinary subject that examines questions of feminism, international women's issues, and globalization through the study of novels, films, critical essays, painting and music. Considers how women redefine the notions of community and nation, how development affects their lives, and how access to the internet and to the production industry impacts women's lives. Primary topics of interest include transformations of traditional values, social change, gender role distribution, identity formation, migration flows, globalization and development, popular culture, urban life, cyber-culture, activism, and human rights. Limited to 25 when Writing Tutor is assigned to the class. Otherwise, limited to 18.\"]"
            ]
          },
          "metadata": {},
          "execution_count": 51
        }
      ]
    },
    {
      "cell_type": "markdown",
      "source": [
        "# University of California - Santa Cruz"
      ],
      "metadata": {
        "id": "S5DRma6qNkHT"
      }
    },
    {
      "cell_type": "code",
      "source": [
        "url = 'https://registrar.ucsc.edu/catalog/archive/11-12/programs-courses/course-descriptions/fmstcourses.html'\n",
        "response = requests.get(url)\n",
        "soup = BeautifulSoup(response.text, \"html.parser\")\n",
        "\n",
        "table = soup.find('div', class_='content contentBox')\n",
        "\n",
        "rows = table.find_all('p')\n",
        "rows = rows[3:]\n",
        "\n",
        "ucsc = []\n",
        "for row in rows:\n",
        "  start = row.text.find('\\n') + 1\n",
        "  end= row.text.find('Prerequisite')\n",
        "  desc = row.text[start:end]\n",
        "  ucsc.append(desc)\n",
        "  time.sleep(0.1)\n",
        "\n",
        "ucsc[0:2]"
      ],
      "metadata": {
        "colab": {
          "base_uri": "https://localhost:8080/"
        },
        "id": "14Kuqp2JN1qO",
        "outputId": "c0bdcc3d-4021-40e2-d482-cbe689bb2194"
      },
      "execution_count": 38,
      "outputs": [
        {
          "output_type": "execute_result",
          "data": {
            "text/plain": [
              "['Introduces the core concepts underlying the interdisciplinary field-formation of feminist studies within multiple geopolitical contexts. Explores how feminist inquiry rethinks disciplinary assumptions and categories, and animates our engagement with culture, history, and society. Topics include: the social construction of gender; the gendered division of labor, production, and reproduction; intersections of gender, race, class, and ethnicity; and histories of sexuality. (Formerly Introduction to Feminisms.) (General Education Code(s): CC, IH.) A. Arondeka',\n",
              " 'Examines, and critically analyzes, select post-World War II movements for social justice in the United States from feminist perspectives. Considers how those movements and their participants responded to issues of race, class, gender, and sexuality. A feminist, transnational, analytic framework is also developed to consider how those movements may have embraced, enhanced, or debilitated feminist formations in other parts of the world. (General Education Code(s): ER, T5-Humanities and Arts or Social Sciences.) B. Aptheke']"
            ]
          },
          "metadata": {},
          "execution_count": 38
        }
      ]
    },
    {
      "cell_type": "markdown",
      "source": [
        "# University of California - Santa Barbara"
      ],
      "metadata": {
        "id": "II2y-XKfPaiL"
      }
    },
    {
      "cell_type": "code",
      "source": [
        "from selenium.webdriver.support.ui import WebDriverWait\n",
        "from selenium.webdriver.support import expected_conditions as EC\n",
        "\n",
        "driver.get('https://catalog.ucsb.edu/departments/FEMST/courses')\n",
        "\n",
        "table = WebDriverWait(driver, 10).until(\n",
        "    EC.presence_of_element_located((By.XPATH, '//tbody[@class=\"base-table__body\"]'))\n",
        ")\n",
        "rows = table.find_elements(By.XPATH, './/tr')\n",
        "\n",
        "ucsb = []\n",
        "for row in rows:\n",
        "  desc = row.find_elements(By.XPATH, './/td')[1].text.strip()\n",
        "\n",
        "  if desc not in descriptions:\n",
        "    ucsb.append(desc)\n",
        "\n",
        "  time.sleep(0.1)\n",
        "\n",
        "ucsb[0:2]"
      ],
      "metadata": {
        "colab": {
          "base_uri": "https://localhost:8080/"
        },
        "id": "wRF1net-QmUO",
        "outputId": "47ad3fa3-2c30-4575-87d2-e99164d33e9c"
      },
      "execution_count": 52,
      "outputs": [
        {
          "output_type": "execute_result",
          "data": {
            "text/plain": [
              "['Critical reading and analysis of gender relations and the place of women in major intellectual traditions. Texts will be drawn from Plato, Rousseau, Wollstonecraft, Mill, Marx, Freud, and de Beauvoir, among others.',\n",
              " 'This interdisciplinary course will highlight how a curriculum focusing on racial, ethnic, gender, and LGBTQ studies is central to teaching and learning within diverse societal contexts. This grounding is essential for K-12 teachers in History and Eng...']"
            ]
          },
          "metadata": {},
          "execution_count": 52
        }
      ]
    },
    {
      "cell_type": "markdown",
      "source": [
        "# University of Connecticut - Stamford"
      ],
      "metadata": {
        "id": "yEyjiVjUSX6l"
      }
    },
    {
      "cell_type": "code",
      "source": [
        "url = 'https://catalog.uconn.edu/undergraduate/courses/wgss/'\n",
        "response = requests.get(url)\n",
        "soup = BeautifulSoup(response.text, \"html.parser\")\n",
        "\n",
        "table = soup.find('div', class_='sc_sccoursedescs')\n",
        "rows = table.find_all('div', class_='courseblock')\n",
        "\n",
        "ucstam = []\n",
        "for row in rows:\n",
        "  desc = row.find_all('div', class_='noindent')\n",
        "  if len(desc) >= 2:\n",
        "    desc = desc[1]\n",
        "    end = desc.text.find('CA')\n",
        "    desc = desc.text[:end]\n",
        "    ucstam.append(desc)\n",
        "  time.sleep(0.1)\n",
        "\n",
        "ucstam[0:2]"
      ],
      "metadata": {
        "colab": {
          "base_uri": "https://localhost:8080/"
        },
        "id": "tPOdeQX0SPIP",
        "outputId": "15867e44-510f-4540-f8d2-dd2a619edba0"
      },
      "execution_count": 41,
      "outputs": [
        {
          "output_type": "execute_result",
          "data": {
            "text/plain": [
              "['How gender, sex, and sexuality are woven into systems of difference and stratification that shape everyday life. Examines these processes in the family, education, work, and politics with sensitivity to the diversity of individual experiences across class, racial ethnic groups, cultures, and regions. Provides experience in introductory research methods to analyze the social construction and structural organization of gender and sexuality. ',\n",
              " '(Also offered as HIST\\xa01203.) The historical roots of challenges faced by contemporary women as revealed in the Western and/or non-Western experience: the political, economic, legal, religious, intellectual and family life of women. ']"
            ]
          },
          "metadata": {},
          "execution_count": 41
        }
      ]
    },
    {
      "cell_type": "markdown",
      "source": [
        "# Edmonds College"
      ],
      "metadata": {
        "id": "pbasRHwJU9Ni"
      }
    },
    {
      "cell_type": "code",
      "source": [
        "url = 'https://www.edmonds.edu/programs-and-degrees/areas-of-study/social-sciences-and-cultural-studies/diversity-studies/women-course-descriptions.html#:~:text=This%20course%20explores%20political%2C%20historical,oppression%2C%20empowerment%2C%20and%20resistance.'\n",
        "response = requests.get(url)\n",
        "soup = BeautifulSoup(response.text, \"html.parser\")\n",
        "\n",
        "table = soup.find('maincontent')\n",
        "rows = table.find_all('p')\n",
        "\n",
        "edmonds = []\n",
        "for i in [0, 4]:\n",
        "  if i < len(rows):\n",
        "      clean_description = rows[i].text.strip()\n",
        "      edmonds.append(clean_description)\n",
        "  time.sleep(0.1)\n",
        "\n",
        "edmonds[0:2]"
      ],
      "metadata": {
        "colab": {
          "base_uri": "https://localhost:8080/"
        },
        "id": "DoKAwTCQVl0m",
        "outputId": "0b100ef4-6b9c-499d-f8e5-86776ff45ef8"
      },
      "execution_count": 42,
      "outputs": [
        {
          "output_type": "execute_result",
          "data": {
            "text/plain": [
              "[\"Introduction to interdisciplinary methods and concepts related to Women's Studies. This course explores political, historical, and cultural constructions of gender, race, class, and sexuality. Topics include women's histories, intersections of identity, family, work, body politics, health, violence and protection, oppression, empowerment, and resistance. Dual listed as DIVST 200. Prerequisite(s): Placement in ENGL& 101 or instructor permission. Crosslisted as: DIVST 200.\\n\\nCourse Level Objectives\\nApply key concepts and theories from the field of Women's Studies to a broad spectrum of historical, political, international and social issues.Reason and think critically about gender relations and women's positions from a wide variety of theoretical perspectives.Analyze and explore relationships between sociopolitical institutions and individual experience.Explore overlapping meanings and constructions of race, class, gender, and sexuality.Compare and contextualize the histories, stories, and current situations of different groups of women, by race, ethnicity, sexuality, class, and physical ability.Examine the ways that intersections of race, class, sexuality, and gender shape life experience and identity formation.Identify and assess empirical research findings to critically analyze issues related to women's positions and experiences.Apply knowledge, awareness, and/or skills to identify and analyze issues related to diversity.\",\n",
              " \"Course Level Objectives\\nDefine anthropology and culture.Define women's studies and feminism.Conduct participant observation and service-learning projects with local community partners.Explain the value of participant observation and service learning as research tools in anthropology and women's studies.Describe and discuss the significance and impact of women in cultural systems.Describe the impact of women's lives on the cultural landscapes they inhabit.Reflect orally and in writing on the value of service as a means of making a difference in a community.Explain how societies are interrelated and theimpact of globalization on women's lives and cultures.Use a culturally relative approach to the exploration of women's lives in various cultures.\"]"
            ]
          },
          "metadata": {},
          "execution_count": 42
        }
      ]
    },
    {
      "cell_type": "markdown",
      "source": [
        "# Most Diverse DataFrame"
      ],
      "metadata": {
        "id": "n4DkhQKMaef2"
      }
    },
    {
      "cell_type": "code",
      "source": [
        "import pandas as pd\n",
        "from google.colab import drive\n",
        "drive.mount('/content/drive')\n",
        "\n",
        "df_diverse = pd.read_csv('/content/drive/My Drive/df_diverse.csv')\n",
        "df_most = df_diverse.sort_values(by='SDI', ascending=False)\n",
        "\n",
        "most_diverse_colleges = ['Columbia University in the City of New York', 'Yale University', 'Stanford University', 'Swarthmore College',\n",
        "                         'Amherst College',\n",
        "                          'University of Chicago', 'Rice University', 'Johns Hopkins University', 'Rutgers University-Newark',\n",
        "                         'University of Southern California', 'University of Washington-Tacoma Campus', 'George Mason University',\n",
        "                         'University of Maryland-Baltimore County', 'University of Massachusetts-Boston', 'University of Nevada-Las Vegas',\n",
        "                         'Massachusetts Institute of Technology', 'University of California-Santa Cruz',\n",
        "                         'University of California-Santa Barbara',\n",
        "                         'University of Connecticut-Stamford', 'Edmonds College']\n",
        "\n",
        "filtered_df = df_most[df_most['Name'].isin(most_diverse_colleges)]\n",
        "filtered_df['Course Descriptions'] = [[] for _ in range(len(filtered_df))]"
      ],
      "metadata": {
        "colab": {
          "base_uri": "https://localhost:8080/"
        },
        "id": "cwMiTV5ZmZw4",
        "outputId": "d5850e81-1054-4f58-a1b9-c512f2ec48aa"
      },
      "execution_count": 54,
      "outputs": [
        {
          "output_type": "stream",
          "name": "stdout",
          "text": [
            "Drive already mounted at /content/drive; to attempt to forcibly remount, call drive.mount(\"/content/drive\", force_remount=True).\n"
          ]
        },
        {
          "output_type": "stream",
          "name": "stderr",
          "text": [
            "<ipython-input-54-fa4f92e809d1>:18: SettingWithCopyWarning: \n",
            "A value is trying to be set on a copy of a slice from a DataFrame.\n",
            "Try using .loc[row_indexer,col_indexer] = value instead\n",
            "\n",
            "See the caveats in the documentation: https://pandas.pydata.org/pandas-docs/stable/user_guide/indexing.html#returning-a-view-versus-a-copy\n",
            "  filtered_df['Course Descriptions'] = [[] for _ in range(len(filtered_df))]\n"
          ]
        }
      ]
    },
    {
      "cell_type": "code",
      "source": [
        "descriptions = [columbia, yale, stanford, swarthmore, amherst, chicago, rice,\n",
        "                jhu, rutgers, usc, uwash, gmu, umb, mass, nev, mit, ucsc, ucsb, ucstam,\n",
        "                edmonds]\n",
        "\n",
        "names = ['Columbia University in the City of New York', 'Yale University', 'Stanford University', 'Swarthmore College',\n",
        "                         'Amherst College',\n",
        "                          'University of Chicago', 'Rice University', 'Johns Hopkins University', 'Rutgers University-Newark',\n",
        "                         'University of Southern California', 'University of Washington-Tacoma Campus', 'George Mason University',\n",
        "                         'University of Maryland-Baltimore County', 'University of Massachusetts-Boston', 'University of Nevada-Las Vegas',\n",
        "                         'Massachusetts Institute of Technology', 'University of California-Santa Cruz',\n",
        "                         'University of California-Santa Barbara',\n",
        "                         'University of Connecticut-Stamford', 'Edmonds College']\n",
        "\n",
        "for i in range(0, 20):\n",
        "  index = filtered_df[filtered_df['Name'] == names[i]]['Course Descriptions'].index[0]\n",
        "  filtered_df.at[index, 'Course Descriptions'] = descriptions[i]"
      ],
      "metadata": {
        "id": "-wB9BuaymbNV"
      },
      "execution_count": 55,
      "outputs": []
    },
    {
      "cell_type": "code",
      "source": [
        "filtered_df"
      ],
      "metadata": {
        "colab": {
          "base_uri": "https://localhost:8080/",
          "height": 1000
        },
        "id": "5gJ-fNwXp5yX",
        "outputId": "54a9e431-22fa-4050-91b8-c476337b6c39"
      },
      "execution_count": 56,
      "outputs": [
        {
          "output_type": "execute_result",
          "data": {
            "text/plain": [
              "    UnitID                                         Name State  \\\n",
              "4   243744                          Stanford University    CA   \n",
              "5   216287                           Swarthmore College    PA   \n",
              "7   162928                     Johns Hopkins University    MD   \n",
              "8   182281               University of Nevada-Las Vegas    NV   \n",
              "9   377564       University of Washington-Tacoma Campus    WA   \n",
              "11  166638           University of Massachusetts-Boston    MA   \n",
              "13  163268      University of Maryland-Baltimore County    MD   \n",
              "15  232186                      George Mason University    VA   \n",
              "16  123961            University of Southern California    CA   \n",
              "17  190150  Columbia University in the City of New York    NY   \n",
              "18  130794                              Yale University    CT   \n",
              "19  186399                    Rutgers University-Newark    NJ   \n",
              "20  144050                        University of Chicago    IL   \n",
              "21  164465                              Amherst College    MA   \n",
              "22  227757                              Rice University    TX   \n",
              "24  166683        Massachusetts Institute of Technology    MA   \n",
              "32  110714          University of California-Santa Cruz    CA   \n",
              "38  110705       University of California-Santa Barbara    CA   \n",
              "41  436836           University of Connecticut-Stamford    CT   \n",
              "42  235103                              Edmonds College    WA   \n",
              "\n",
              "                                          Affiliation  Urbanization    Total  \\\n",
              "4   Private not-for-profit (no religious affiliation)            21   8054.0   \n",
              "5   Private not-for-profit (no religious affiliation)            21   1644.0   \n",
              "7   Private not-for-profit (no religious affiliation)            11   6089.0   \n",
              "8                                              Public            12  25794.0   \n",
              "9                                              Public            12   4014.0   \n",
              "11                                             Public            11  12373.0   \n",
              "13                                             Public            21  10490.0   \n",
              "15                                             Public            21  27666.0   \n",
              "16  Private not-for-profit (no religious affiliation)            11  21023.0   \n",
              "17  Private not-for-profit (no religious affiliation)            11   9111.0   \n",
              "18  Private not-for-profit (no religious affiliation)            12   6818.0   \n",
              "19                                             Public            11   7417.0   \n",
              "20  Private not-for-profit (no religious affiliation)            11   7643.0   \n",
              "21  Private not-for-profit (no religious affiliation)            13   1910.0   \n",
              "22  Private not-for-profit (no religious affiliation)            11   4574.0   \n",
              "24  Private not-for-profit (no religious affiliation)            12   4576.0   \n",
              "32                                             Public            13  17812.0   \n",
              "38                                             Public            22  23232.0   \n",
              "41                                             Public            12   2240.0   \n",
              "42                                             Public            21   6028.0   \n",
              "\n",
              "    Men total  Women total  American Indian or Alaska Native total  \\\n",
              "4      3900.0       4154.0                                    63.0   \n",
              "5       795.0        849.0                                     7.0   \n",
              "7      2742.0       3347.0                                     9.0   \n",
              "8     11330.0      14464.0                                    73.0   \n",
              "9      2097.0       1917.0                                    22.0   \n",
              "11     5314.0       7059.0                                    12.0   \n",
              "13     5681.0       4809.0                                    11.0   \n",
              "15    14111.0      13555.0                                    30.0   \n",
              "16    10148.0      10875.0                                    35.0   \n",
              "17     4607.0       4504.0                                    27.0   \n",
              "18     3289.0       3529.0                                    28.0   \n",
              "19     3472.0       3945.0                                     9.0   \n",
              "20     4076.0       3567.0                                     2.0   \n",
              "21      883.0       1027.0                                     4.0   \n",
              "22     2330.0       2244.0                                     6.0   \n",
              "24     2345.0       2231.0                                     7.0   \n",
              "32     8616.0       9196.0                                    14.0   \n",
              "38     9983.0      13249.0                                    35.0   \n",
              "41     1160.0       1080.0                                     2.0   \n",
              "42     2692.0       3336.0                                    23.0   \n",
              "\n",
              "    Asian total  ...  Women %  American Indian or Alaska Native %  Asian %  \\\n",
              "4        2175.0  ...     51.6                                 0.8     27.0   \n",
              "5         288.0  ...     51.6                                 0.4     17.5   \n",
              "7        1551.0  ...     55.0                                 0.1     25.5   \n",
              "8        3997.0  ...     56.1                                 0.3     15.5   \n",
              "9         937.0  ...     47.8                                 0.5     23.3   \n",
              "11       1935.0  ...     57.1                                 0.1     15.6   \n",
              "13       2501.0  ...     45.8                                 0.1     23.8   \n",
              "15       6481.0  ...     49.0                                 0.1     23.4   \n",
              "16       5157.0  ...     51.7                                 0.2     24.5   \n",
              "17       1647.0  ...     49.4                                 0.3     18.1   \n",
              "18       1557.0  ...     51.8                                 0.4     22.8   \n",
              "19       1367.0  ...     53.2                                 0.1     18.4   \n",
              "20       1486.0  ...     46.7                                 0.0     19.4   \n",
              "21        297.0  ...     53.8                                 0.2     15.5   \n",
              "22       1346.0  ...     49.1                                 0.1     29.4   \n",
              "24       1582.0  ...     48.8                                 0.2     34.6   \n",
              "32       4390.0  ...     51.6                                 0.1     24.6   \n",
              "38       4333.0  ...     57.0                                 0.2     18.7   \n",
              "41        242.0  ...     48.2                                 0.1     10.8   \n",
              "42        885.0  ...     55.3                                 0.4     14.7   \n",
              "\n",
              "    Black or African American %  Hispanic %  \\\n",
              "4                           8.1        18.5   \n",
              "5                           9.4        15.1   \n",
              "7                           9.8        19.9   \n",
              "8                           9.0        35.2   \n",
              "9                          11.3        15.8   \n",
              "11                         17.3        19.0   \n",
              "13                         23.8         9.3   \n",
              "15                         12.3        17.3   \n",
              "16                          7.0        18.1   \n",
              "17                          7.6        15.9   \n",
              "18                          8.8        15.7   \n",
              "19                         18.8        34.8   \n",
              "20                          6.9        16.9   \n",
              "21                         11.2        15.1   \n",
              "22                          8.2        16.1   \n",
              "24                          8.7        14.5   \n",
              "32                          2.0        28.5   \n",
              "38                          2.0        26.0   \n",
              "41                         14.5        34.4   \n",
              "42                          7.6        13.8   \n",
              "\n",
              "    Native Hawaiian or Other Pacific Islander %  White %  Two or more races %  \\\n",
              "4                                           0.2     23.8                  9.3   \n",
              "5                                           0.1     29.6                 11.0   \n",
              "7                                           0.1     21.8                  6.2   \n",
              "8                                           0.8     22.7                 14.1   \n",
              "9                                           1.0     34.3                  8.9   \n",
              "11                                          0.0     29.9                  3.9   \n",
              "13                                          0.0     30.6                  6.4   \n",
              "15                                          0.1     32.9                  5.6   \n",
              "16                                          0.2     27.3                  6.4   \n",
              "17                                          0.2     29.4                  6.4   \n",
              "18                                          0.1     32.4                  7.2   \n",
              "19                                          0.1     20.8                  2.4   \n",
              "20                                          0.0     30.5                  7.0   \n",
              "21                                          0.1     35.9                  8.4   \n",
              "22                                          0.1     26.4                  5.2   \n",
              "24                                          0.0     21.0                  7.1   \n",
              "32                                          0.1     30.8                  8.5   \n",
              "38                                          0.1     31.7                  8.8   \n",
              "41                                          0.0     29.6                  3.8   \n",
              "42                                          0.2     34.4                  7.3   \n",
              "\n",
              "         SDI                                Course Descriptions  \n",
              "4   0.767208  [Taught by long-time community organizer, Beat...  \n",
              "5   0.765415  [ ANTH 044. Gender, Sexuality, and Social Chan...  \n",
              "7   0.761917  [This course will serve as an intensive introd...  \n",
              "8   0.761161  [ WMST 427B.) Study of gender and literature t...  \n",
              "9   0.759269  [Introduces theories, methods, and analytical ...  \n",
              "11  0.753740  [This course focuses on literary expressions a...  \n",
              "13  0.751392  [Drawing on feminist, queer, social, and criti...  \n",
              "15  0.748846  [Explores ways women are portrayed around the ...  \n",
              "16  0.748320  [Exploration of identity development in terms ...  \n",
              "17  0.745629  [Combines critical feminist and anti-racist an...  \n",
              "18  0.745307  [Overview of LGBTQ cultures and their relation...  \n",
              "19  0.742729  [Addresses the historical influences that have...  \n",
              "20  0.740678  [This is a one-quarter, seminar-style course f...  \n",
              "21  0.738362  [(Offered as CLAS 111 and SWAG 110) Since its ...  \n",
              "22  0.738062  [ An introduction to the interdisciplinary stu...  \n",
              "24  0.733644  [Drawing on multiple disciplines - such as lit...  \n",
              "32  0.727089  [Introduces the core concepts underlying the i...  \n",
              "38  0.724138  [Critical reading and analysis of gender relat...  \n",
              "41  0.723602  [How gender, sex, and sexuality are woven into...  \n",
              "42  0.723237  [Introduction to interdisciplinary methods and...  \n",
              "\n",
              "[20 rows x 26 columns]"
            ],
            "text/html": [
              "\n",
              "  <div id=\"df-07f5f537-f5bb-46f6-b459-c35abbcd46a3\" class=\"colab-df-container\">\n",
              "    <div>\n",
              "<style scoped>\n",
              "    .dataframe tbody tr th:only-of-type {\n",
              "        vertical-align: middle;\n",
              "    }\n",
              "\n",
              "    .dataframe tbody tr th {\n",
              "        vertical-align: top;\n",
              "    }\n",
              "\n",
              "    .dataframe thead th {\n",
              "        text-align: right;\n",
              "    }\n",
              "</style>\n",
              "<table border=\"1\" class=\"dataframe\">\n",
              "  <thead>\n",
              "    <tr style=\"text-align: right;\">\n",
              "      <th></th>\n",
              "      <th>UnitID</th>\n",
              "      <th>Name</th>\n",
              "      <th>State</th>\n",
              "      <th>Affiliation</th>\n",
              "      <th>Urbanization</th>\n",
              "      <th>Total</th>\n",
              "      <th>Men total</th>\n",
              "      <th>Women total</th>\n",
              "      <th>American Indian or Alaska Native total</th>\n",
              "      <th>Asian total</th>\n",
              "      <th>...</th>\n",
              "      <th>Women %</th>\n",
              "      <th>American Indian or Alaska Native %</th>\n",
              "      <th>Asian %</th>\n",
              "      <th>Black or African American %</th>\n",
              "      <th>Hispanic %</th>\n",
              "      <th>Native Hawaiian or Other Pacific Islander %</th>\n",
              "      <th>White %</th>\n",
              "      <th>Two or more races %</th>\n",
              "      <th>SDI</th>\n",
              "      <th>Course Descriptions</th>\n",
              "    </tr>\n",
              "  </thead>\n",
              "  <tbody>\n",
              "    <tr>\n",
              "      <th>4</th>\n",
              "      <td>243744</td>\n",
              "      <td>Stanford University</td>\n",
              "      <td>CA</td>\n",
              "      <td>Private not-for-profit (no religious affiliation)</td>\n",
              "      <td>21</td>\n",
              "      <td>8054.0</td>\n",
              "      <td>3900.0</td>\n",
              "      <td>4154.0</td>\n",
              "      <td>63.0</td>\n",
              "      <td>2175.0</td>\n",
              "      <td>...</td>\n",
              "      <td>51.6</td>\n",
              "      <td>0.8</td>\n",
              "      <td>27.0</td>\n",
              "      <td>8.1</td>\n",
              "      <td>18.5</td>\n",
              "      <td>0.2</td>\n",
              "      <td>23.8</td>\n",
              "      <td>9.3</td>\n",
              "      <td>0.767208</td>\n",
              "      <td>[Taught by long-time community organizer, Beat...</td>\n",
              "    </tr>\n",
              "    <tr>\n",
              "      <th>5</th>\n",
              "      <td>216287</td>\n",
              "      <td>Swarthmore College</td>\n",
              "      <td>PA</td>\n",
              "      <td>Private not-for-profit (no religious affiliation)</td>\n",
              "      <td>21</td>\n",
              "      <td>1644.0</td>\n",
              "      <td>795.0</td>\n",
              "      <td>849.0</td>\n",
              "      <td>7.0</td>\n",
              "      <td>288.0</td>\n",
              "      <td>...</td>\n",
              "      <td>51.6</td>\n",
              "      <td>0.4</td>\n",
              "      <td>17.5</td>\n",
              "      <td>9.4</td>\n",
              "      <td>15.1</td>\n",
              "      <td>0.1</td>\n",
              "      <td>29.6</td>\n",
              "      <td>11.0</td>\n",
              "      <td>0.765415</td>\n",
              "      <td>[ ANTH 044. Gender, Sexuality, and Social Chan...</td>\n",
              "    </tr>\n",
              "    <tr>\n",
              "      <th>7</th>\n",
              "      <td>162928</td>\n",
              "      <td>Johns Hopkins University</td>\n",
              "      <td>MD</td>\n",
              "      <td>Private not-for-profit (no religious affiliation)</td>\n",
              "      <td>11</td>\n",
              "      <td>6089.0</td>\n",
              "      <td>2742.0</td>\n",
              "      <td>3347.0</td>\n",
              "      <td>9.0</td>\n",
              "      <td>1551.0</td>\n",
              "      <td>...</td>\n",
              "      <td>55.0</td>\n",
              "      <td>0.1</td>\n",
              "      <td>25.5</td>\n",
              "      <td>9.8</td>\n",
              "      <td>19.9</td>\n",
              "      <td>0.1</td>\n",
              "      <td>21.8</td>\n",
              "      <td>6.2</td>\n",
              "      <td>0.761917</td>\n",
              "      <td>[This course will serve as an intensive introd...</td>\n",
              "    </tr>\n",
              "    <tr>\n",
              "      <th>8</th>\n",
              "      <td>182281</td>\n",
              "      <td>University of Nevada-Las Vegas</td>\n",
              "      <td>NV</td>\n",
              "      <td>Public</td>\n",
              "      <td>12</td>\n",
              "      <td>25794.0</td>\n",
              "      <td>11330.0</td>\n",
              "      <td>14464.0</td>\n",
              "      <td>73.0</td>\n",
              "      <td>3997.0</td>\n",
              "      <td>...</td>\n",
              "      <td>56.1</td>\n",
              "      <td>0.3</td>\n",
              "      <td>15.5</td>\n",
              "      <td>9.0</td>\n",
              "      <td>35.2</td>\n",
              "      <td>0.8</td>\n",
              "      <td>22.7</td>\n",
              "      <td>14.1</td>\n",
              "      <td>0.761161</td>\n",
              "      <td>[ WMST 427B.) Study of gender and literature t...</td>\n",
              "    </tr>\n",
              "    <tr>\n",
              "      <th>9</th>\n",
              "      <td>377564</td>\n",
              "      <td>University of Washington-Tacoma Campus</td>\n",
              "      <td>WA</td>\n",
              "      <td>Public</td>\n",
              "      <td>12</td>\n",
              "      <td>4014.0</td>\n",
              "      <td>2097.0</td>\n",
              "      <td>1917.0</td>\n",
              "      <td>22.0</td>\n",
              "      <td>937.0</td>\n",
              "      <td>...</td>\n",
              "      <td>47.8</td>\n",
              "      <td>0.5</td>\n",
              "      <td>23.3</td>\n",
              "      <td>11.3</td>\n",
              "      <td>15.8</td>\n",
              "      <td>1.0</td>\n",
              "      <td>34.3</td>\n",
              "      <td>8.9</td>\n",
              "      <td>0.759269</td>\n",
              "      <td>[Introduces theories, methods, and analytical ...</td>\n",
              "    </tr>\n",
              "    <tr>\n",
              "      <th>11</th>\n",
              "      <td>166638</td>\n",
              "      <td>University of Massachusetts-Boston</td>\n",
              "      <td>MA</td>\n",
              "      <td>Public</td>\n",
              "      <td>11</td>\n",
              "      <td>12373.0</td>\n",
              "      <td>5314.0</td>\n",
              "      <td>7059.0</td>\n",
              "      <td>12.0</td>\n",
              "      <td>1935.0</td>\n",
              "      <td>...</td>\n",
              "      <td>57.1</td>\n",
              "      <td>0.1</td>\n",
              "      <td>15.6</td>\n",
              "      <td>17.3</td>\n",
              "      <td>19.0</td>\n",
              "      <td>0.0</td>\n",
              "      <td>29.9</td>\n",
              "      <td>3.9</td>\n",
              "      <td>0.753740</td>\n",
              "      <td>[This course focuses on literary expressions a...</td>\n",
              "    </tr>\n",
              "    <tr>\n",
              "      <th>13</th>\n",
              "      <td>163268</td>\n",
              "      <td>University of Maryland-Baltimore County</td>\n",
              "      <td>MD</td>\n",
              "      <td>Public</td>\n",
              "      <td>21</td>\n",
              "      <td>10490.0</td>\n",
              "      <td>5681.0</td>\n",
              "      <td>4809.0</td>\n",
              "      <td>11.0</td>\n",
              "      <td>2501.0</td>\n",
              "      <td>...</td>\n",
              "      <td>45.8</td>\n",
              "      <td>0.1</td>\n",
              "      <td>23.8</td>\n",
              "      <td>23.8</td>\n",
              "      <td>9.3</td>\n",
              "      <td>0.0</td>\n",
              "      <td>30.6</td>\n",
              "      <td>6.4</td>\n",
              "      <td>0.751392</td>\n",
              "      <td>[Drawing on feminist, queer, social, and criti...</td>\n",
              "    </tr>\n",
              "    <tr>\n",
              "      <th>15</th>\n",
              "      <td>232186</td>\n",
              "      <td>George Mason University</td>\n",
              "      <td>VA</td>\n",
              "      <td>Public</td>\n",
              "      <td>21</td>\n",
              "      <td>27666.0</td>\n",
              "      <td>14111.0</td>\n",
              "      <td>13555.0</td>\n",
              "      <td>30.0</td>\n",
              "      <td>6481.0</td>\n",
              "      <td>...</td>\n",
              "      <td>49.0</td>\n",
              "      <td>0.1</td>\n",
              "      <td>23.4</td>\n",
              "      <td>12.3</td>\n",
              "      <td>17.3</td>\n",
              "      <td>0.1</td>\n",
              "      <td>32.9</td>\n",
              "      <td>5.6</td>\n",
              "      <td>0.748846</td>\n",
              "      <td>[Explores ways women are portrayed around the ...</td>\n",
              "    </tr>\n",
              "    <tr>\n",
              "      <th>16</th>\n",
              "      <td>123961</td>\n",
              "      <td>University of Southern California</td>\n",
              "      <td>CA</td>\n",
              "      <td>Private not-for-profit (no religious affiliation)</td>\n",
              "      <td>11</td>\n",
              "      <td>21023.0</td>\n",
              "      <td>10148.0</td>\n",
              "      <td>10875.0</td>\n",
              "      <td>35.0</td>\n",
              "      <td>5157.0</td>\n",
              "      <td>...</td>\n",
              "      <td>51.7</td>\n",
              "      <td>0.2</td>\n",
              "      <td>24.5</td>\n",
              "      <td>7.0</td>\n",
              "      <td>18.1</td>\n",
              "      <td>0.2</td>\n",
              "      <td>27.3</td>\n",
              "      <td>6.4</td>\n",
              "      <td>0.748320</td>\n",
              "      <td>[Exploration of identity development in terms ...</td>\n",
              "    </tr>\n",
              "    <tr>\n",
              "      <th>17</th>\n",
              "      <td>190150</td>\n",
              "      <td>Columbia University in the City of New York</td>\n",
              "      <td>NY</td>\n",
              "      <td>Private not-for-profit (no religious affiliation)</td>\n",
              "      <td>11</td>\n",
              "      <td>9111.0</td>\n",
              "      <td>4607.0</td>\n",
              "      <td>4504.0</td>\n",
              "      <td>27.0</td>\n",
              "      <td>1647.0</td>\n",
              "      <td>...</td>\n",
              "      <td>49.4</td>\n",
              "      <td>0.3</td>\n",
              "      <td>18.1</td>\n",
              "      <td>7.6</td>\n",
              "      <td>15.9</td>\n",
              "      <td>0.2</td>\n",
              "      <td>29.4</td>\n",
              "      <td>6.4</td>\n",
              "      <td>0.745629</td>\n",
              "      <td>[Combines critical feminist and anti-racist an...</td>\n",
              "    </tr>\n",
              "    <tr>\n",
              "      <th>18</th>\n",
              "      <td>130794</td>\n",
              "      <td>Yale University</td>\n",
              "      <td>CT</td>\n",
              "      <td>Private not-for-profit (no religious affiliation)</td>\n",
              "      <td>12</td>\n",
              "      <td>6818.0</td>\n",
              "      <td>3289.0</td>\n",
              "      <td>3529.0</td>\n",
              "      <td>28.0</td>\n",
              "      <td>1557.0</td>\n",
              "      <td>...</td>\n",
              "      <td>51.8</td>\n",
              "      <td>0.4</td>\n",
              "      <td>22.8</td>\n",
              "      <td>8.8</td>\n",
              "      <td>15.7</td>\n",
              "      <td>0.1</td>\n",
              "      <td>32.4</td>\n",
              "      <td>7.2</td>\n",
              "      <td>0.745307</td>\n",
              "      <td>[Overview of LGBTQ cultures and their relation...</td>\n",
              "    </tr>\n",
              "    <tr>\n",
              "      <th>19</th>\n",
              "      <td>186399</td>\n",
              "      <td>Rutgers University-Newark</td>\n",
              "      <td>NJ</td>\n",
              "      <td>Public</td>\n",
              "      <td>11</td>\n",
              "      <td>7417.0</td>\n",
              "      <td>3472.0</td>\n",
              "      <td>3945.0</td>\n",
              "      <td>9.0</td>\n",
              "      <td>1367.0</td>\n",
              "      <td>...</td>\n",
              "      <td>53.2</td>\n",
              "      <td>0.1</td>\n",
              "      <td>18.4</td>\n",
              "      <td>18.8</td>\n",
              "      <td>34.8</td>\n",
              "      <td>0.1</td>\n",
              "      <td>20.8</td>\n",
              "      <td>2.4</td>\n",
              "      <td>0.742729</td>\n",
              "      <td>[Addresses the historical influences that have...</td>\n",
              "    </tr>\n",
              "    <tr>\n",
              "      <th>20</th>\n",
              "      <td>144050</td>\n",
              "      <td>University of Chicago</td>\n",
              "      <td>IL</td>\n",
              "      <td>Private not-for-profit (no religious affiliation)</td>\n",
              "      <td>11</td>\n",
              "      <td>7643.0</td>\n",
              "      <td>4076.0</td>\n",
              "      <td>3567.0</td>\n",
              "      <td>2.0</td>\n",
              "      <td>1486.0</td>\n",
              "      <td>...</td>\n",
              "      <td>46.7</td>\n",
              "      <td>0.0</td>\n",
              "      <td>19.4</td>\n",
              "      <td>6.9</td>\n",
              "      <td>16.9</td>\n",
              "      <td>0.0</td>\n",
              "      <td>30.5</td>\n",
              "      <td>7.0</td>\n",
              "      <td>0.740678</td>\n",
              "      <td>[This is a one-quarter, seminar-style course f...</td>\n",
              "    </tr>\n",
              "    <tr>\n",
              "      <th>21</th>\n",
              "      <td>164465</td>\n",
              "      <td>Amherst College</td>\n",
              "      <td>MA</td>\n",
              "      <td>Private not-for-profit (no religious affiliation)</td>\n",
              "      <td>13</td>\n",
              "      <td>1910.0</td>\n",
              "      <td>883.0</td>\n",
              "      <td>1027.0</td>\n",
              "      <td>4.0</td>\n",
              "      <td>297.0</td>\n",
              "      <td>...</td>\n",
              "      <td>53.8</td>\n",
              "      <td>0.2</td>\n",
              "      <td>15.5</td>\n",
              "      <td>11.2</td>\n",
              "      <td>15.1</td>\n",
              "      <td>0.1</td>\n",
              "      <td>35.9</td>\n",
              "      <td>8.4</td>\n",
              "      <td>0.738362</td>\n",
              "      <td>[(Offered as CLAS 111 and SWAG 110) Since its ...</td>\n",
              "    </tr>\n",
              "    <tr>\n",
              "      <th>22</th>\n",
              "      <td>227757</td>\n",
              "      <td>Rice University</td>\n",
              "      <td>TX</td>\n",
              "      <td>Private not-for-profit (no religious affiliation)</td>\n",
              "      <td>11</td>\n",
              "      <td>4574.0</td>\n",
              "      <td>2330.0</td>\n",
              "      <td>2244.0</td>\n",
              "      <td>6.0</td>\n",
              "      <td>1346.0</td>\n",
              "      <td>...</td>\n",
              "      <td>49.1</td>\n",
              "      <td>0.1</td>\n",
              "      <td>29.4</td>\n",
              "      <td>8.2</td>\n",
              "      <td>16.1</td>\n",
              "      <td>0.1</td>\n",
              "      <td>26.4</td>\n",
              "      <td>5.2</td>\n",
              "      <td>0.738062</td>\n",
              "      <td>[ An introduction to the interdisciplinary stu...</td>\n",
              "    </tr>\n",
              "    <tr>\n",
              "      <th>24</th>\n",
              "      <td>166683</td>\n",
              "      <td>Massachusetts Institute of Technology</td>\n",
              "      <td>MA</td>\n",
              "      <td>Private not-for-profit (no religious affiliation)</td>\n",
              "      <td>12</td>\n",
              "      <td>4576.0</td>\n",
              "      <td>2345.0</td>\n",
              "      <td>2231.0</td>\n",
              "      <td>7.0</td>\n",
              "      <td>1582.0</td>\n",
              "      <td>...</td>\n",
              "      <td>48.8</td>\n",
              "      <td>0.2</td>\n",
              "      <td>34.6</td>\n",
              "      <td>8.7</td>\n",
              "      <td>14.5</td>\n",
              "      <td>0.0</td>\n",
              "      <td>21.0</td>\n",
              "      <td>7.1</td>\n",
              "      <td>0.733644</td>\n",
              "      <td>[Drawing on multiple disciplines - such as lit...</td>\n",
              "    </tr>\n",
              "    <tr>\n",
              "      <th>32</th>\n",
              "      <td>110714</td>\n",
              "      <td>University of California-Santa Cruz</td>\n",
              "      <td>CA</td>\n",
              "      <td>Public</td>\n",
              "      <td>13</td>\n",
              "      <td>17812.0</td>\n",
              "      <td>8616.0</td>\n",
              "      <td>9196.0</td>\n",
              "      <td>14.0</td>\n",
              "      <td>4390.0</td>\n",
              "      <td>...</td>\n",
              "      <td>51.6</td>\n",
              "      <td>0.1</td>\n",
              "      <td>24.6</td>\n",
              "      <td>2.0</td>\n",
              "      <td>28.5</td>\n",
              "      <td>0.1</td>\n",
              "      <td>30.8</td>\n",
              "      <td>8.5</td>\n",
              "      <td>0.727089</td>\n",
              "      <td>[Introduces the core concepts underlying the i...</td>\n",
              "    </tr>\n",
              "    <tr>\n",
              "      <th>38</th>\n",
              "      <td>110705</td>\n",
              "      <td>University of California-Santa Barbara</td>\n",
              "      <td>CA</td>\n",
              "      <td>Public</td>\n",
              "      <td>22</td>\n",
              "      <td>23232.0</td>\n",
              "      <td>9983.0</td>\n",
              "      <td>13249.0</td>\n",
              "      <td>35.0</td>\n",
              "      <td>4333.0</td>\n",
              "      <td>...</td>\n",
              "      <td>57.0</td>\n",
              "      <td>0.2</td>\n",
              "      <td>18.7</td>\n",
              "      <td>2.0</td>\n",
              "      <td>26.0</td>\n",
              "      <td>0.1</td>\n",
              "      <td>31.7</td>\n",
              "      <td>8.8</td>\n",
              "      <td>0.724138</td>\n",
              "      <td>[Critical reading and analysis of gender relat...</td>\n",
              "    </tr>\n",
              "    <tr>\n",
              "      <th>41</th>\n",
              "      <td>436836</td>\n",
              "      <td>University of Connecticut-Stamford</td>\n",
              "      <td>CT</td>\n",
              "      <td>Public</td>\n",
              "      <td>12</td>\n",
              "      <td>2240.0</td>\n",
              "      <td>1160.0</td>\n",
              "      <td>1080.0</td>\n",
              "      <td>2.0</td>\n",
              "      <td>242.0</td>\n",
              "      <td>...</td>\n",
              "      <td>48.2</td>\n",
              "      <td>0.1</td>\n",
              "      <td>10.8</td>\n",
              "      <td>14.5</td>\n",
              "      <td>34.4</td>\n",
              "      <td>0.0</td>\n",
              "      <td>29.6</td>\n",
              "      <td>3.8</td>\n",
              "      <td>0.723602</td>\n",
              "      <td>[How gender, sex, and sexuality are woven into...</td>\n",
              "    </tr>\n",
              "    <tr>\n",
              "      <th>42</th>\n",
              "      <td>235103</td>\n",
              "      <td>Edmonds College</td>\n",
              "      <td>WA</td>\n",
              "      <td>Public</td>\n",
              "      <td>21</td>\n",
              "      <td>6028.0</td>\n",
              "      <td>2692.0</td>\n",
              "      <td>3336.0</td>\n",
              "      <td>23.0</td>\n",
              "      <td>885.0</td>\n",
              "      <td>...</td>\n",
              "      <td>55.3</td>\n",
              "      <td>0.4</td>\n",
              "      <td>14.7</td>\n",
              "      <td>7.6</td>\n",
              "      <td>13.8</td>\n",
              "      <td>0.2</td>\n",
              "      <td>34.4</td>\n",
              "      <td>7.3</td>\n",
              "      <td>0.723237</td>\n",
              "      <td>[Introduction to interdisciplinary methods and...</td>\n",
              "    </tr>\n",
              "  </tbody>\n",
              "</table>\n",
              "<p>20 rows × 26 columns</p>\n",
              "</div>\n",
              "    <div class=\"colab-df-buttons\">\n",
              "\n",
              "  <div class=\"colab-df-container\">\n",
              "    <button class=\"colab-df-convert\" onclick=\"convertToInteractive('df-07f5f537-f5bb-46f6-b459-c35abbcd46a3')\"\n",
              "            title=\"Convert this dataframe to an interactive table.\"\n",
              "            style=\"display:none;\">\n",
              "\n",
              "  <svg xmlns=\"http://www.w3.org/2000/svg\" height=\"24px\" viewBox=\"0 -960 960 960\">\n",
              "    <path d=\"M120-120v-720h720v720H120Zm60-500h600v-160H180v160Zm220 220h160v-160H400v160Zm0 220h160v-160H400v160ZM180-400h160v-160H180v160Zm440 0h160v-160H620v160ZM180-180h160v-160H180v160Zm440 0h160v-160H620v160Z\"/>\n",
              "  </svg>\n",
              "    </button>\n",
              "\n",
              "  <style>\n",
              "    .colab-df-container {\n",
              "      display:flex;\n",
              "      gap: 12px;\n",
              "    }\n",
              "\n",
              "    .colab-df-convert {\n",
              "      background-color: #E8F0FE;\n",
              "      border: none;\n",
              "      border-radius: 50%;\n",
              "      cursor: pointer;\n",
              "      display: none;\n",
              "      fill: #1967D2;\n",
              "      height: 32px;\n",
              "      padding: 0 0 0 0;\n",
              "      width: 32px;\n",
              "    }\n",
              "\n",
              "    .colab-df-convert:hover {\n",
              "      background-color: #E2EBFA;\n",
              "      box-shadow: 0px 1px 2px rgba(60, 64, 67, 0.3), 0px 1px 3px 1px rgba(60, 64, 67, 0.15);\n",
              "      fill: #174EA6;\n",
              "    }\n",
              "\n",
              "    .colab-df-buttons div {\n",
              "      margin-bottom: 4px;\n",
              "    }\n",
              "\n",
              "    [theme=dark] .colab-df-convert {\n",
              "      background-color: #3B4455;\n",
              "      fill: #D2E3FC;\n",
              "    }\n",
              "\n",
              "    [theme=dark] .colab-df-convert:hover {\n",
              "      background-color: #434B5C;\n",
              "      box-shadow: 0px 1px 3px 1px rgba(0, 0, 0, 0.15);\n",
              "      filter: drop-shadow(0px 1px 2px rgba(0, 0, 0, 0.3));\n",
              "      fill: #FFFFFF;\n",
              "    }\n",
              "  </style>\n",
              "\n",
              "    <script>\n",
              "      const buttonEl =\n",
              "        document.querySelector('#df-07f5f537-f5bb-46f6-b459-c35abbcd46a3 button.colab-df-convert');\n",
              "      buttonEl.style.display =\n",
              "        google.colab.kernel.accessAllowed ? 'block' : 'none';\n",
              "\n",
              "      async function convertToInteractive(key) {\n",
              "        const element = document.querySelector('#df-07f5f537-f5bb-46f6-b459-c35abbcd46a3');\n",
              "        const dataTable =\n",
              "          await google.colab.kernel.invokeFunction('convertToInteractive',\n",
              "                                                    [key], {});\n",
              "        if (!dataTable) return;\n",
              "\n",
              "        const docLinkHtml = 'Like what you see? Visit the ' +\n",
              "          '<a target=\"_blank\" href=https://colab.research.google.com/notebooks/data_table.ipynb>data table notebook</a>'\n",
              "          + ' to learn more about interactive tables.';\n",
              "        element.innerHTML = '';\n",
              "        dataTable['output_type'] = 'display_data';\n",
              "        await google.colab.output.renderOutput(dataTable, element);\n",
              "        const docLink = document.createElement('div');\n",
              "        docLink.innerHTML = docLinkHtml;\n",
              "        element.appendChild(docLink);\n",
              "      }\n",
              "    </script>\n",
              "  </div>\n",
              "\n",
              "\n",
              "<div id=\"df-72fa2f57-8eed-4f93-9ee1-a2c18bcdd7f1\">\n",
              "  <button class=\"colab-df-quickchart\" onclick=\"quickchart('df-72fa2f57-8eed-4f93-9ee1-a2c18bcdd7f1')\"\n",
              "            title=\"Suggest charts\"\n",
              "            style=\"display:none;\">\n",
              "\n",
              "<svg xmlns=\"http://www.w3.org/2000/svg\" height=\"24px\"viewBox=\"0 0 24 24\"\n",
              "     width=\"24px\">\n",
              "    <g>\n",
              "        <path d=\"M19 3H5c-1.1 0-2 .9-2 2v14c0 1.1.9 2 2 2h14c1.1 0 2-.9 2-2V5c0-1.1-.9-2-2-2zM9 17H7v-7h2v7zm4 0h-2V7h2v10zm4 0h-2v-4h2v4z\"/>\n",
              "    </g>\n",
              "</svg>\n",
              "  </button>\n",
              "\n",
              "<style>\n",
              "  .colab-df-quickchart {\n",
              "      --bg-color: #E8F0FE;\n",
              "      --fill-color: #1967D2;\n",
              "      --hover-bg-color: #E2EBFA;\n",
              "      --hover-fill-color: #174EA6;\n",
              "      --disabled-fill-color: #AAA;\n",
              "      --disabled-bg-color: #DDD;\n",
              "  }\n",
              "\n",
              "  [theme=dark] .colab-df-quickchart {\n",
              "      --bg-color: #3B4455;\n",
              "      --fill-color: #D2E3FC;\n",
              "      --hover-bg-color: #434B5C;\n",
              "      --hover-fill-color: #FFFFFF;\n",
              "      --disabled-bg-color: #3B4455;\n",
              "      --disabled-fill-color: #666;\n",
              "  }\n",
              "\n",
              "  .colab-df-quickchart {\n",
              "    background-color: var(--bg-color);\n",
              "    border: none;\n",
              "    border-radius: 50%;\n",
              "    cursor: pointer;\n",
              "    display: none;\n",
              "    fill: var(--fill-color);\n",
              "    height: 32px;\n",
              "    padding: 0;\n",
              "    width: 32px;\n",
              "  }\n",
              "\n",
              "  .colab-df-quickchart:hover {\n",
              "    background-color: var(--hover-bg-color);\n",
              "    box-shadow: 0 1px 2px rgba(60, 64, 67, 0.3), 0 1px 3px 1px rgba(60, 64, 67, 0.15);\n",
              "    fill: var(--button-hover-fill-color);\n",
              "  }\n",
              "\n",
              "  .colab-df-quickchart-complete:disabled,\n",
              "  .colab-df-quickchart-complete:disabled:hover {\n",
              "    background-color: var(--disabled-bg-color);\n",
              "    fill: var(--disabled-fill-color);\n",
              "    box-shadow: none;\n",
              "  }\n",
              "\n",
              "  .colab-df-spinner {\n",
              "    border: 2px solid var(--fill-color);\n",
              "    border-color: transparent;\n",
              "    border-bottom-color: var(--fill-color);\n",
              "    animation:\n",
              "      spin 1s steps(1) infinite;\n",
              "  }\n",
              "\n",
              "  @keyframes spin {\n",
              "    0% {\n",
              "      border-color: transparent;\n",
              "      border-bottom-color: var(--fill-color);\n",
              "      border-left-color: var(--fill-color);\n",
              "    }\n",
              "    20% {\n",
              "      border-color: transparent;\n",
              "      border-left-color: var(--fill-color);\n",
              "      border-top-color: var(--fill-color);\n",
              "    }\n",
              "    30% {\n",
              "      border-color: transparent;\n",
              "      border-left-color: var(--fill-color);\n",
              "      border-top-color: var(--fill-color);\n",
              "      border-right-color: var(--fill-color);\n",
              "    }\n",
              "    40% {\n",
              "      border-color: transparent;\n",
              "      border-right-color: var(--fill-color);\n",
              "      border-top-color: var(--fill-color);\n",
              "    }\n",
              "    60% {\n",
              "      border-color: transparent;\n",
              "      border-right-color: var(--fill-color);\n",
              "    }\n",
              "    80% {\n",
              "      border-color: transparent;\n",
              "      border-right-color: var(--fill-color);\n",
              "      border-bottom-color: var(--fill-color);\n",
              "    }\n",
              "    90% {\n",
              "      border-color: transparent;\n",
              "      border-bottom-color: var(--fill-color);\n",
              "    }\n",
              "  }\n",
              "</style>\n",
              "\n",
              "  <script>\n",
              "    async function quickchart(key) {\n",
              "      const quickchartButtonEl =\n",
              "        document.querySelector('#' + key + ' button');\n",
              "      quickchartButtonEl.disabled = true;  // To prevent multiple clicks.\n",
              "      quickchartButtonEl.classList.add('colab-df-spinner');\n",
              "      try {\n",
              "        const charts = await google.colab.kernel.invokeFunction(\n",
              "            'suggestCharts', [key], {});\n",
              "      } catch (error) {\n",
              "        console.error('Error during call to suggestCharts:', error);\n",
              "      }\n",
              "      quickchartButtonEl.classList.remove('colab-df-spinner');\n",
              "      quickchartButtonEl.classList.add('colab-df-quickchart-complete');\n",
              "    }\n",
              "    (() => {\n",
              "      let quickchartButtonEl =\n",
              "        document.querySelector('#df-72fa2f57-8eed-4f93-9ee1-a2c18bcdd7f1 button');\n",
              "      quickchartButtonEl.style.display =\n",
              "        google.colab.kernel.accessAllowed ? 'block' : 'none';\n",
              "    })();\n",
              "  </script>\n",
              "</div>\n",
              "\n",
              "  <div id=\"id_671e24c8-cc56-447d-b90a-63f7d0108162\">\n",
              "    <style>\n",
              "      .colab-df-generate {\n",
              "        background-color: #E8F0FE;\n",
              "        border: none;\n",
              "        border-radius: 50%;\n",
              "        cursor: pointer;\n",
              "        display: none;\n",
              "        fill: #1967D2;\n",
              "        height: 32px;\n",
              "        padding: 0 0 0 0;\n",
              "        width: 32px;\n",
              "      }\n",
              "\n",
              "      .colab-df-generate:hover {\n",
              "        background-color: #E2EBFA;\n",
              "        box-shadow: 0px 1px 2px rgba(60, 64, 67, 0.3), 0px 1px 3px 1px rgba(60, 64, 67, 0.15);\n",
              "        fill: #174EA6;\n",
              "      }\n",
              "\n",
              "      [theme=dark] .colab-df-generate {\n",
              "        background-color: #3B4455;\n",
              "        fill: #D2E3FC;\n",
              "      }\n",
              "\n",
              "      [theme=dark] .colab-df-generate:hover {\n",
              "        background-color: #434B5C;\n",
              "        box-shadow: 0px 1px 3px 1px rgba(0, 0, 0, 0.15);\n",
              "        filter: drop-shadow(0px 1px 2px rgba(0, 0, 0, 0.3));\n",
              "        fill: #FFFFFF;\n",
              "      }\n",
              "    </style>\n",
              "    <button class=\"colab-df-generate\" onclick=\"generateWithVariable('filtered_df')\"\n",
              "            title=\"Generate code using this dataframe.\"\n",
              "            style=\"display:none;\">\n",
              "\n",
              "  <svg xmlns=\"http://www.w3.org/2000/svg\" height=\"24px\"viewBox=\"0 0 24 24\"\n",
              "       width=\"24px\">\n",
              "    <path d=\"M7,19H8.4L18.45,9,17,7.55,7,17.6ZM5,21V16.75L18.45,3.32a2,2,0,0,1,2.83,0l1.4,1.43a1.91,1.91,0,0,1,.58,1.4,1.91,1.91,0,0,1-.58,1.4L9.25,21ZM18.45,9,17,7.55Zm-12,3A5.31,5.31,0,0,0,4.9,8.1,5.31,5.31,0,0,0,1,6.5,5.31,5.31,0,0,0,4.9,4.9,5.31,5.31,0,0,0,6.5,1,5.31,5.31,0,0,0,8.1,4.9,5.31,5.31,0,0,0,12,6.5,5.46,5.46,0,0,0,6.5,12Z\"/>\n",
              "  </svg>\n",
              "    </button>\n",
              "    <script>\n",
              "      (() => {\n",
              "      const buttonEl =\n",
              "        document.querySelector('#id_671e24c8-cc56-447d-b90a-63f7d0108162 button.colab-df-generate');\n",
              "      buttonEl.style.display =\n",
              "        google.colab.kernel.accessAllowed ? 'block' : 'none';\n",
              "\n",
              "      buttonEl.onclick = () => {\n",
              "        google.colab.notebook.generateWithVariable('filtered_df');\n",
              "      }\n",
              "      })();\n",
              "    </script>\n",
              "  </div>\n",
              "\n",
              "    </div>\n",
              "  </div>\n"
            ],
            "application/vnd.google.colaboratory.intrinsic+json": {
              "type": "dataframe",
              "variable_name": "filtered_df"
            }
          },
          "metadata": {},
          "execution_count": 56
        }
      ]
    },
    {
      "cell_type": "code",
      "source": [
        "filtered_df.to_csv('most_diverse_colleges.csv', index=False)"
      ],
      "metadata": {
        "id": "BlpZcPPsxkhw"
      },
      "execution_count": null,
      "outputs": []
    }
  ]
}